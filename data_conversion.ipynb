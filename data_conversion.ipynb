{
 "cells": [
  {
   "cell_type": "code",
   "execution_count": 25,
   "metadata": {},
   "outputs": [],
   "source": [
    "import os\n",
    "import pandas as pd\n",
    "\n",
    "dtype_mapping = {f\"winner_card_{i}_id\": \"int32\" for i in range(1, 9)}\n",
    "dtype_mapping.update({f\"loser_card_{i}_id\": \"int32\" for i in range(1, 9)})\n",
    "dtype_mapping.update({f\"winner_card_{i}_level\": \"int8\" for i in range(1, 9)})\n",
    "dtype_mapping.update({f\"loser_card_{i}_level\": \"int8\" for i in range(1, 9)})\n",
    "dtype_mapping.update({\n",
    "    \"winner_tower_card_id\": \"int32\",\n",
    "    \"winner_tower_card_level\": \"int8\",\n",
    "    \"loser_tower_card_id\": \"int32\",\n",
    "    \"loser_tower_card_level\": \"int8\",\n",
    "})\n",
    "\n",
    "\n",
    "# Get the list of CSV files in the directory\n",
    "csv_files = [file for file in os.listdir('./clash_battles') if file.endswith('.csv')]\n",
    "\n",
    "# Read and concatenate the CSV files\n",
    "dfs = []\n",
    "for file in csv_files:\n",
    "    df = pd.read_csv(os.path.join('./clash_battles', file), dtype=dtype_mapping)\n",
    "    dfs.append(df)\n",
    "concatenated_df = pd.concat(dfs)\n",
    "concatenated_df.drop_duplicates(inplace=True)\n",
    "concatenated_df[\"winner\"] = concatenated_df[\"winner\"].str.strip('#').astype(\"string\")\n",
    "concatenated_df[\"loser\"] = concatenated_df[\"loser\"].str.strip('#').astype(\"string\")\n",
    "concatenated_df[\"battleTime\"] = pd.to_datetime(concatenated_df[\"battleTime\"], format=\"%Y%m%dT%H%M%S.%fZ\")\n",
    "concatenated_df[\"battleType\"] = concatenated_df[\"battleType\"].astype(\"category\")\n",
    "concatenated_df[\"battleMode\"] = concatenated_df[\"battleMode\"].astype(\"category\")\n",
    "\n",
    "# Save the concatenated DataFrame as a zstd compressed Parquet file\n",
    "concatenated_df.to_parquet('full_clash_battles_zstd.parquet', compression=\"zstd\")"
   ]
  },
  {
   "cell_type": "code",
   "execution_count": 26,
   "metadata": {},
   "outputs": [
    {
     "name": "stdout",
     "output_type": "stream",
     "text": [
      "<class 'pandas.core.frame.DataFrame'>\n",
      "Index: 2299510 entries, 0 to 80320\n",
      "Data columns (total 42 columns):\n",
      " #   Column                   Dtype         \n",
      "---  ------                   -----         \n",
      " 0   battleTime               datetime64[ns]\n",
      " 1   battleType               category      \n",
      " 2   battleMode               category      \n",
      " 3   arena                    int64         \n",
      " 4   winner                   string        \n",
      " 5   loser                    string        \n",
      " 6   winner_card_1_id         int32         \n",
      " 7   winner_card_1_level      int8          \n",
      " 8   winner_card_2_id         int32         \n",
      " 9   winner_card_2_level      int8          \n",
      " 10  winner_card_3_id         int32         \n",
      " 11  winner_card_3_level      int8          \n",
      " 12  winner_card_4_id         int32         \n",
      " 13  winner_card_4_level      int8          \n",
      " 14  winner_card_5_id         int32         \n",
      " 15  winner_card_5_level      int8          \n",
      " 16  winner_card_6_id         int32         \n",
      " 17  winner_card_6_level      int8          \n",
      " 18  winner_card_7_id         int32         \n",
      " 19  winner_card_7_level      int8          \n",
      " 20  winner_card_8_id         int32         \n",
      " 21  winner_card_8_level      int8          \n",
      " 22  winner_tower_card_id     int32         \n",
      " 23  winner_tower_card_level  int8          \n",
      " 24  loser_card_1_id          int32         \n",
      " 25  loser_card_1_level       int8          \n",
      " 26  loser_card_2_id          int32         \n",
      " 27  loser_card_2_level       int8          \n",
      " 28  loser_card_3_id          int32         \n",
      " 29  loser_card_3_level       int8          \n",
      " 30  loser_card_4_id          int32         \n",
      " 31  loser_card_4_level       int8          \n",
      " 32  loser_card_5_id          int32         \n",
      " 33  loser_card_5_level       int8          \n",
      " 34  loser_card_6_id          int32         \n",
      " 35  loser_card_6_level       int8          \n",
      " 36  loser_card_7_id          int32         \n",
      " 37  loser_card_7_level       int8          \n",
      " 38  loser_card_8_id          int32         \n",
      " 39  loser_card_8_level       int8          \n",
      " 40  loser_tower_card_id      int32         \n",
      " 41  loser_tower_card_level   int8          \n",
      "dtypes: category(2), datetime64[ns](1), int32(18), int64(1), int8(18), string(2)\n",
      "memory usage: 289.5 MB\n"
     ]
    }
   ],
   "source": [
    "concatenated_df.info()"
   ]
  }
 ],
 "metadata": {
  "kernelspec": {
   "display_name": "kalshi",
   "language": "python",
   "name": "python3"
  },
  "language_info": {
   "codemirror_mode": {
    "name": "ipython",
    "version": 3
   },
   "file_extension": ".py",
   "mimetype": "text/x-python",
   "name": "python",
   "nbconvert_exporter": "python",
   "pygments_lexer": "ipython3",
   "version": "3.10.15"
  }
 },
 "nbformat": 4,
 "nbformat_minor": 2
}
