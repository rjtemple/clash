{
 "cells": [
  {
   "cell_type": "code",
   "execution_count": 40,
   "metadata": {},
   "outputs": [],
   "source": [
    "import pandas as pd\n",
    "import json\n",
    "import plotly.express as px\n",
    "from sklearn.neighbors import NearestNeighbors\n",
    "from concurrent.futures import ThreadPoolExecutor"
   ]
  },
  {
   "cell_type": "code",
   "execution_count": 46,
   "metadata": {},
   "outputs": [],
   "source": [
    "diffs = pd.read_parquet('diffs.parquet')\n",
    "df_vis = pd.read_parquet('df_vis.parquet')\n",
    "df = pd.read_parquet('full_clash_battles_zstd.parquet').sample(100000, random_state=42).reset_index(drop=True)\n",
    "winners = df[[col for col in df.columns if 'winner' in col and 'level' not in col]].copy().drop(columns = 'winner').rename(columns=lambda x: x.replace('winner', 'player'))\n",
    "losers = df[[col for col in df.columns if 'loser' in col and 'level' not in col]].copy().drop(columns = 'loser').rename(columns=lambda x: x.replace('loser', 'player'))"
   ]
  },
  {
   "cell_type": "code",
   "execution_count": 47,
   "metadata": {},
   "outputs": [],
   "source": [
    "with open('./dicts/card_mappings.json') as f:\n",
    "    card_mappings = json.load(f)\n",
    "\n",
    "def get_names(i):\n",
    "    for col in i.columns:\n",
    "        if col.endswith('_id'):\n",
    "            i[col] = i[col].astype(str).map(card_mappings)\n",
    "    return i\n",
    "\n",
    "def ohe(i):\n",
    "    melted = i.reset_index().melt(id_vars='index', value_name='card', var_name='slot')\n",
    "    i = pd.get_dummies(melted.set_index('index')['card'], dtype = int)\n",
    "    i = i.groupby(level=0).max()\n",
    "    return i\n",
    "\n",
    "winners = get_names(winners)\n",
    "losers = get_names(losers)"
   ]
  },
  {
   "cell_type": "code",
   "execution_count": 21,
   "metadata": {},
   "outputs": [],
   "source": [
    "df_vis['WinnerDeck'] = df_vis['WinnerDeck'].astype(str)\n",
    "df_vis['LoserDeck'] = df_vis['LoserDeck'].astype(str)"
   ]
  },
  {
   "cell_type": "code",
   "execution_count": 56,
   "metadata": {},
   "outputs": [],
   "source": [
    "def knn_cards(df, indices, common_set_size=3, num_threads=8):\n",
    "    card_columns = [f'player_card_{i}_id' for i in range(1, 9)]\n",
    "    \n",
    "    def get_common_cards(idx):\n",
    "        neighbor_indices = indices[idx]\n",
    "        all_neighbor_cards = df.iloc[neighbor_indices][card_columns].values.flatten()\n",
    "        card_counts = pd.Series(all_neighbor_cards).value_counts()\n",
    "        return card_counts.head(common_set_size).index.tolist()\n",
    "    \n",
    "    with ThreadPoolExecutor(max_workers=num_threads) as executor:\n",
    "        shared_cards_list = list(executor.map(get_common_cards, range(len(df))))\n",
    "        \n",
    "    return pd.Series([str(sorted(i)) for i in shared_cards_list])\n",
    "\n",
    "def train_nn(df, n_neighbors):\n",
    "    coordinates = pd.DataFrame(df[['UMAP 1', 'UMAP 2']].values, columns=['x', 'y'])\n",
    "    nn_model = NearestNeighbors(n_neighbors=n_neighbors, metric='euclidean')\n",
    "    nn_model.fit(coordinates)\n",
    "    _, indices = nn_model.kneighbors(coordinates)\n",
    "    return indices\n",
    "\n",
    "def get_only_card_type(df, card, col):\n",
    "    df['UMAP 1'] = df_vis['UMAP 1']\n",
    "    df['UMAP 2'] = df_vis['UMAP 2']\n",
    "    return df[df_vis[col] == f\"['{card}']\"].copy() "
   ]
  },
  {
   "cell_type": "code",
   "execution_count": 90,
   "metadata": {},
   "outputs": [],
   "source": [
    "card_type = \"Goblin Drill\"\n",
    "card_df = get_only_card_type(df_vis, card_type, 'Loser1000')\n",
    "\n",
    "# indices = train_nn(card_df, 50)\n",
    "# card_df['winner_common_3'] = knn_cards(get_only_card_type(winners, card_type, 'Loser1000'), indices, common_set_size=3)\n",
    "# card_df['loser_common_3'] = knn_cards(get_only_card_type(losers, card_type, 'Loser1000'), indices, common_set_size=3)"
   ]
  },
  {
   "cell_type": "code",
   "execution_count": 91,
   "metadata": {},
   "outputs": [
    {
     "data": {
      "text/plain": [
       "Index(['UMAP 1', 'UMAP 2', 'Winner', 'Loser', 'Elixir', 'WinCon', 'WinnerDeck',\n",
       "       'LoserDeck', 'Winner10', 'Loser10', 'Similar10', 'Winner100',\n",
       "       'Loser100', 'Similar100', 'Winner100_2', 'Loser100_2', 'Winner500',\n",
       "       'Loser500', 'Winner1000', 'Loser1000'],\n",
       "      dtype='object')"
      ]
     },
     "execution_count": 91,
     "metadata": {},
     "output_type": "execute_result"
    }
   ],
   "source": [
    "card_df.columns"
   ]
  },
  {
   "cell_type": "code",
   "execution_count": 93,
   "metadata": {},
   "outputs": [
    {
     "data": {
      "application/vnd.plotly.v1+json": {
       "config": {
        "plotlyServerURL": "https://plot.ly"
       },
       "data": [
        {
         "customdata": [
          [
           "('Mortar', 'Goblin Drill')",
           0.625
          ],
          [
           "('Mortar', 'Goblin Drill')",
           1
          ],
          [
           "('Mortar', 'Goblin Drill')",
           -0.625
          ],
          [
           "('Hog Rider', 'Hog Rider')",
           1.375
          ],
          [
           "('Royal Hogs', 'Goblin Drill')",
           1.75
          ],
          [
           "('Mortar', 'Goblin Drill')",
           0
          ],
          [
           "('Mortar', 'Goblin Drill')",
           -0.875
          ],
          [
           "('Mortar', 'Goblin Drill')",
           0.75
          ],
          [
           "('Miner', 'Goblin Drill')",
           -0.125
          ],
          [
           "('Mortar', 'Goblin Drill')",
           0.125
          ],
          [
           "('Mortar', 'Goblin Drill')",
           0.25
          ],
          [
           "('Mortar', 'Goblin Drill')",
           1
          ],
          [
           "('Mortar', 'Goblin Drill')",
           0.75
          ],
          [
           "('Mortar', 'Goblin Drill')",
           0.125
          ],
          [
           "('Mortar', 'Hog Rider')",
           -1.125
          ],
          [
           "('Mortar', 'Wall Breakers')",
           0.375
          ]
         ],
         "hovertemplate": "Winner1000=['Arrows']<br>UMAP 1=%{x}<br>UMAP 2=%{y}<br>WinCon=%{customdata[0]}<br>Elixir=%{customdata[1]}<extra></extra>",
         "legendgroup": "['Arrows']",
         "marker": {
          "color": "#636efa",
          "opacity": 0.6,
          "size": 4,
          "symbol": "circle"
         },
         "mode": "markers",
         "name": "['Arrows']",
         "orientation": "v",
         "showlegend": true,
         "type": "scatter",
         "x": {
          "bdata": "7LUnQYWxJ0GpbiZBFV4oQZDPKEHrHydBUPUmQcLWJ0EVZidBIZInQZu6JkHFridBC18nQbigJkFytyhBgbgmQQ==",
          "dtype": "f4"
         },
         "xaxis": "x",
         "y": {
          "bdata": "dt3Sv3qZ1r8nY9C/Rj/hvwiH4L8hxtO/PCPOvx+C178GAt6/I6bTv87Tz7/0htW/SyXSv7aazr9eFOG/I8nPvw==",
          "dtype": "f4"
         },
         "yaxis": "y"
        },
        {
         "customdata": [
          [
           "('Hog Rider', 'Goblin Drill')",
           -0.875
          ],
          [
           "('Hog Rider', 'Wall Breakers')",
           0.125
          ],
          [
           "('Goblin Barrel', 'Golem')",
           -0.5
          ],
          [
           "('Elixir Golem', 'Wall Breakers')",
           0.875
          ],
          [
           "('Battle Ram', 'Hog Rider')",
           0
          ],
          [
           "('Ram Rider', 'Goblin Drill')",
           0.875
          ],
          [
           "('Hog Rider', 'Goblin Drill')",
           0.375
          ],
          [
           "('Royal Giant', 'Goblin Drill')",
           -0.375
          ],
          [
           "('Hog Rider', 'Goblin Drill')",
           1.25
          ],
          [
           "('Goblin Barrel', 'Goblin Drill')",
           0.25
          ],
          [
           "('Goblin Barrel', 'Goblin Drill')",
           1.125
          ],
          [
           "(None, 'Goblin Drill')",
           1.875
          ],
          [
           "('Giant', 'Goblin Drill')",
           1.125
          ],
          [
           "('Hog Rider', 'Mortar')",
           -0.875
          ],
          [
           "('Goblin Barrel', 'Goblin Drill')",
           -0.125
          ],
          [
           "('Hog Rider', 'Goblin Drill')",
           1
          ],
          [
           "('Battle Ram', 'Wall Breakers')",
           1.125
          ],
          [
           "('Goblin Barrel', 'Goblin Drill')",
           -1
          ],
          [
           "('Hog Rider', 'Goblin Drill')",
           -0.375
          ],
          [
           "('Ram Rider', 'Goblin Drill')",
           1
          ],
          [
           "(None, 'Goblin Drill')",
           0.5
          ],
          [
           "('Goblin Barrel', 'Goblin Drill')",
           1
          ],
          [
           "('Hog Rider', 'Goblin Drill')",
           -0.25
          ],
          [
           "('Hog Rider', 'Goblin Drill')",
           -0.25
          ],
          [
           "('Battle Ram', 'Wall Breakers')",
           0.75
          ],
          [
           "('Royal Giant', 'Goblin Drill')",
           0.5
          ],
          [
           "('Goblin Barrel', 'Goblin Drill')",
           1.125
          ],
          [
           "('Battle Ram', 'Wall Breakers')",
           0.375
          ],
          [
           "(None, 'Goblin Drill')",
           1.25
          ],
          [
           "('Goblin Barrel', 'Goblin Drill')",
           -0.25
          ],
          [
           "('Balloon', 'Wall Breakers')",
           -0.625
          ],
          [
           "('Hog Rider', 'Goblin Drill')",
           -1
          ],
          [
           "('Hog Rider', 'Wall Breakers')",
           0.125
          ],
          [
           "('Goblin Barrel', 'Wall Breakers')",
           1.5
          ],
          [
           "('Hog Rider', 'Skeleton Barrel')",
           0.375
          ],
          [
           "('Hog Rider', 'Goblin Drill')",
           1.25
          ],
          [
           "('Battle Ram', 'Ram Rider')",
           -0.125
          ],
          [
           "('Hog Rider', 'Goblin Drill')",
           -1.25
          ],
          [
           "(None, 'Goblin Drill')",
           0.25
          ],
          [
           "('Hog Rider', 'Wall Breakers')",
           0
          ],
          [
           "('Balloon', 'Wall Breakers')",
           2.125
          ],
          [
           "('Hog Rider', 'Goblin Drill')",
           -0.875
          ],
          [
           "(None, 'Royal Giant')",
           -0.25
          ],
          [
           "('Balloon', 'Ram Rider')",
           -0.125
          ],
          [
           "('Royal Giant', 'Goblin Drill')",
           0.625
          ],
          [
           "('Goblin Barrel', 'Skeleton Barrel')",
           0
          ],
          [
           "('Royal Hogs', 'Wall Breakers')",
           1
          ],
          [
           "('Hog Rider', 'Goblin Drill')",
           0
          ],
          [
           "('Hog Rider', 'Goblin Drill')",
           0.875
          ],
          [
           "(None, 'Wall Breakers')",
           0.5
          ],
          [
           "('Hog Rider', 'Wall Breakers')",
           0.5
          ],
          [
           "(None, 'Goblin Drill')",
           1.375
          ],
          [
           "('X-Bow', 'Goblin Drill')",
           1.25
          ],
          [
           "('Hog Rider', 'Goblin Drill')",
           -0.5
          ],
          [
           "('Hog Rider', 'Goblin Drill')",
           0.5
          ],
          [
           "('Balloon', 'Goblin Drill')",
           -0.625
          ],
          [
           "('Balloon', 'Goblin Drill')",
           0
          ],
          [
           "('Goblin Barrel', 'Goblin Drill')",
           0.5
          ],
          [
           "('Miner', 'Goblin Drill')",
           0.125
          ],
          [
           "('Goblin Barrel', 'Goblin Drill')",
           -0.125
          ],
          [
           "(None, 'Goblin Drill')",
           1.25
          ],
          [
           "('Hog Rider', 'Wall Breakers')",
           1.125
          ],
          [
           "('Goblin Barrel', 'Goblin Drill')",
           0
          ],
          [
           "('Battle Ram', 'Goblin Drill')",
           0.875
          ],
          [
           "('Balloon', 'Goblin Drill')",
           1.5
          ],
          [
           "('Hog Rider', 'Goblin Drill')",
           -0.5
          ],
          [
           "('Hog Rider', 'Wall Breakers')",
           0.5
          ],
          [
           "('Balloon', 'Wall Breakers')",
           -0.125
          ],
          [
           "('Miner', 'Wall Breakers')",
           1
          ],
          [
           "('Balloon', 'Goblin Drill')",
           0.375
          ],
          [
           "('Hog Rider', 'Goblin Drill')",
           1.125
          ],
          [
           "('Hog Rider', 'Royal Giant')",
           -0.625
          ],
          [
           "(None, 'Hog Rider')",
           0.25
          ],
          [
           "('Goblin Barrel', 'Goblin Drill')",
           -0.25
          ],
          [
           "('Miner', 'Goblin Drill')",
           1.625
          ],
          [
           "('Royal Giant', 'Wall Breakers')",
           1.375
          ],
          [
           "('Royal Giant', 'Goblin Drill')",
           0.625
          ],
          [
           "('X-Bow', 'Goblin Drill')",
           0.625
          ],
          [
           "('Battle Ram', 'Goblin Drill')",
           1.25
          ],
          [
           "(None, 'Goblin Drill')",
           1.375
          ],
          [
           "(None, 'Goblin Drill')",
           1.75
          ],
          [
           "('Ram Rider', 'Goblin Drill')",
           2
          ],
          [
           "('Hog Rider', 'Goblin Drill')",
           -0.875
          ],
          [
           "(None, 'Goblin Drill')",
           1.125
          ],
          [
           "(None, 'Miner')",
           0.375
          ],
          [
           "('Giant', 'Goblin Drill')",
           0.125
          ],
          [
           "('Royal Giant', 'Goblin Drill')",
           1.125
          ],
          [
           "('Goblin Barrel', 'Wall Breakers')",
           -0.375
          ],
          [
           "('Balloon', 'Wall Breakers')",
           0.625
          ],
          [
           "('Goblin Barrel', 'Goblin Drill')",
           0.75
          ],
          [
           "('Hog Rider', 'Goblin Drill')",
           0.875
          ],
          [
           "('Balloon', 'Goblin Drill')",
           0.5
          ],
          [
           "(None, 'Goblin Drill')",
           -0.625
          ],
          [
           "('Balloon', 'Skeleton Barrel')",
           0.75
          ],
          [
           "('Balloon', 'Goblin Drill')",
           1.375
          ],
          [
           "('Battle Ram', 'Goblin Drill')",
           1.625
          ],
          [
           "('Goblin Barrel', 'Goblin Drill')",
           0.5
          ],
          [
           "('Goblin Giant', 'Wall Breakers')",
           0.375
          ],
          [
           "('Goblin Giant', 'Goblin Drill')",
           1
          ],
          [
           "('Hog Rider', 'Miner')",
           0.875
          ],
          [
           "('Goblin Giant', 'Goblin Drill')",
           0.125
          ],
          [
           "(None, 'Goblin Drill')",
           -0.625
          ],
          [
           "('Hog Rider', 'Goblin Drill')",
           0.75
          ],
          [
           "('Hog Rider', 'Goblin Drill')",
           0.625
          ],
          [
           "('Balloon', 'Goblin Drill')",
           -0.125
          ],
          [
           "(None, 'Goblin Drill')",
           0.875
          ],
          [
           "('Battle Ram', 'Goblin Drill')",
           0.5
          ],
          [
           "('Hog Rider', 'Goblin Drill')",
           0.25
          ],
          [
           "('Hog Rider', 'Goblin Drill')",
           0.25
          ],
          [
           "('Hog Rider', 'Goblin Drill')",
           1
          ],
          [
           "(None, 'Goblin Drill')",
           0.875
          ],
          [
           "('Hog Rider', 'Goblin Drill')",
           1.25
          ],
          [
           "('Hog Rider', 'Goblin Drill')",
           0
          ],
          [
           "('Wall Breakers', 'Wall Breakers')",
           -0.75
          ],
          [
           "('Hog Rider', 'Goblin Drill')",
           0.75
          ],
          [
           "('Hog Rider', 'Goblin Drill')",
           -0.25
          ],
          [
           "('Wall Breakers', 'Goblin Drill')",
           -0.5
          ],
          [
           "('Ram Rider', 'Goblin Drill')",
           1
          ],
          [
           "('Hog Rider', 'Goblin Drill')",
           0.75
          ],
          [
           "('Battle Ram', 'Goblin Drill')",
           1.375
          ],
          [
           "('Goblin Barrel', 'Miner')",
           1.125
          ],
          [
           "('Goblin Barrel', 'Wall Breakers')",
           -0.25
          ],
          [
           "('Balloon', 'Goblin Drill')",
           1.375
          ],
          [
           "('Royal Giant', 'Goblin Drill')",
           0.375
          ],
          [
           "('Hog Rider', 'Goblin Drill')",
           0
          ],
          [
           "('Hog Rider', 'Wall Breakers')",
           -0.25
          ],
          [
           "('Hog Rider', 'Goblin Drill')",
           0.25
          ],
          [
           "('Royal Giant', 'Goblin Drill')",
           0.625
          ],
          [
           "('Hog Rider', 'Ram Rider')",
           -1.125
          ],
          [
           "('Hog Rider', 'Goblin Drill')",
           0.125
          ],
          [
           "('Balloon', 'Goblin Drill')",
           0.125
          ],
          [
           "('Hog Rider', 'Goblin Drill')",
           0.375
          ],
          [
           "('Hog Rider', 'Goblin Drill')",
           -0.5
          ],
          [
           "('Goblin Barrel', 'Goblin Drill')",
           0.75
          ],
          [
           "('Hog Rider', 'Goblin Drill')",
           -0.375
          ],
          [
           "('Skeleton Barrel', 'Goblin Drill')",
           1
          ],
          [
           "('Hog Rider', 'Goblin Drill')",
           -0.75
          ],
          [
           "('Balloon', 'Goblin Drill')",
           -0.25
          ],
          [
           "('Battle Ram', 'Goblin Drill')",
           1.125
          ],
          [
           "('Goblin Barrel', 'Goblin Drill')",
           0.25
          ],
          [
           "('Hog Rider', 'Skeleton Barrel')",
           -0.875
          ],
          [
           "('Hog Rider', 'Goblin Drill')",
           0.125
          ],
          [
           "('Goblin Barrel', 'Graveyard')",
           -0.5
          ],
          [
           "('Giant', 'Goblin Drill')",
           0.625
          ],
          [
           "('Hog Rider', 'Goblin Drill')",
           0.625
          ],
          [
           "(None, 'Wall Breakers')",
           1.5
          ],
          [
           "('Hog Rider', 'Goblin Drill')",
           0
          ],
          [
           "('Mortar', 'Goblin Drill')",
           0.5
          ],
          [
           "('Goblin Barrel', 'Goblin Drill')",
           0.125
          ],
          [
           "('Giant', 'Goblin Drill')",
           1.125
          ],
          [
           "(None, 'Goblin Drill')",
           0
          ],
          [
           "('Hog Rider', 'Hog Rider')",
           -1.625
          ],
          [
           "('Battle Ram', 'Goblin Drill')",
           1.125
          ],
          [
           "('Royal Giant', 'Goblin Drill')",
           1.125
          ],
          [
           "('Goblin Giant', 'Goblin Drill')",
           0.5
          ],
          [
           "('Golem', 'Goblin Drill')",
           1.625
          ],
          [
           "('X-Bow', 'Goblin Drill')",
           -0.375
          ],
          [
           "('Battle Ram', 'Goblin Drill')",
           0
          ],
          [
           "('Goblin Giant', 'Goblin Drill')",
           1.25
          ],
          [
           "('Goblin Barrel', 'Mortar')",
           -0.75
          ],
          [
           "('Wall Breakers', 'Goblin Drill')",
           0.125
          ],
          [
           "('Hog Rider', 'Goblin Drill')",
           -1.25
          ],
          [
           "('Goblin Barrel', 'Goblin Drill')",
           0.625
          ],
          [
           "('Goblin Giant', 'Goblin Drill')",
           0
          ],
          [
           "(None, 'Goblin Drill')",
           0.125
          ],
          [
           "('Hog Rider', 'Goblin Drill')",
           1.25
          ],
          [
           "('Skeleton Barrel', 'Goblin Drill')",
           0.5
          ],
          [
           "('Hog Rider', 'Goblin Drill')",
           0.5
          ],
          [
           "(None, 'Goblin Drill')",
           1.25
          ],
          [
           "('X-Bow', 'Goblin Drill')",
           0.625
          ],
          [
           "('Hog Rider', 'Goblin Drill')",
           -0.125
          ],
          [
           "(None, 'Goblin Drill')",
           0.5
          ],
          [
           "('Wall Breakers', 'Goblin Drill')",
           0.625
          ],
          [
           "('Hog Rider', 'Goblin Drill')",
           -0.25
          ],
          [
           "('Hog Rider', 'Goblin Drill')",
           -0.25
          ],
          [
           "('Royal Giant', 'Goblin Drill')",
           0.75
          ],
          [
           "('Goblin Barrel', 'Goblin Drill')",
           0.5
          ],
          [
           "(None, 'Hog Rider')",
           -0.25
          ],
          [
           "('Royal Hogs', 'Goblin Drill')",
           1
          ],
          [
           "('Hog Rider', 'Goblin Drill')",
           1.25
          ],
          [
           "(None, 'Goblin Drill')",
           1.5
          ],
          [
           "(None, 'Goblin Drill')",
           -0.375
          ],
          [
           "('Balloon', 'Goblin Drill')",
           1.125
          ],
          [
           "('Hog Rider', 'Hog Rider')",
           -2
          ],
          [
           "('Ram Rider', 'Hog Rider')",
           -0.5
          ],
          [
           "('Wall Breakers', 'Goblin Drill')",
           0.625
          ],
          [
           "('Skeleton Barrel', 'Goblin Drill')",
           -0.25
          ],
          [
           "('Hog Rider', 'Goblin Drill')",
           1.125
          ],
          [
           "('Graveyard', 'Goblin Drill')",
           0.125
          ],
          [
           "('Royal Hogs', 'Goblin Drill')",
           0.875
          ],
          [
           "('Royal Giant', 'Goblin Drill')",
           2.625
          ],
          [
           "(None, 'Goblin Drill')",
           1.125
          ],
          [
           "('Hog Rider', 'Goblin Drill')",
           1
          ],
          [
           "('Hog Rider', 'Goblin Drill')",
           -0.625
          ],
          [
           "('X-Bow', 'Goblin Drill')",
           0.25
          ],
          [
           "('Goblin Barrel', 'Mortar')",
           -1.125
          ],
          [
           "('Hog Rider', 'Wall Breakers')",
           0.125
          ],
          [
           "('Balloon', 'Goblin Drill')",
           2.125
          ],
          [
           "(None, 'Wall Breakers')",
           0.5
          ],
          [
           "('Royal Giant', 'Goblin Drill')",
           1.5
          ],
          [
           "('Hog Rider', 'Goblin Drill')",
           -0.875
          ],
          [
           "('X-Bow', 'Goblin Drill')",
           -0.25
          ],
          [
           "(None, 'Goblin Drill')",
           0.875
          ],
          [
           "('Goblin Giant', 'Goblin Drill')",
           1.375
          ],
          [
           "('Battle Ram', 'Royal Hogs')",
           -0.875
          ],
          [
           "('Hog Rider', 'Goblin Drill')",
           0.125
          ],
          [
           "('Mortar', 'Goblin Drill')",
           0.5
          ],
          [
           "('Goblin Giant', 'Miner')",
           2
          ],
          [
           "('Ram Rider', 'Royal Giant')",
           0.125
          ],
          [
           "(None, 'Goblin Drill')",
           0.5
          ],
          [
           "('Hog Rider', 'Goblin Drill')",
           0.25
          ],
          [
           "('Hog Rider', 'Goblin Drill')",
           1.125
          ],
          [
           "('Hog Rider', 'Goblin Drill')",
           -0.125
          ],
          [
           "('Goblin Barrel', 'Hog Rider')",
           0
          ],
          [
           "('Balloon', 'Goblin Drill')",
           0.5
          ],
          [
           "(None, 'Goblin Drill')",
           -0.375
          ],
          [
           "('Hog Rider', 'Goblin Drill')",
           0.25
          ],
          [
           "('Hog Rider', 'Goblin Drill')",
           -0.375
          ],
          [
           "('Balloon', 'Golem')",
           -1.125
          ],
          [
           "('Mortar', 'Goblin Drill')",
           0
          ],
          [
           "('Balloon', 'Goblin Drill')",
           -0.875
          ],
          [
           "('Royal Giant', 'Goblin Drill')",
           2
          ],
          [
           "('Wall Breakers', 'Hog Rider')",
           -0.625
          ],
          [
           "('Royal Giant', 'Wall Breakers')",
           1.375
          ],
          [
           "('Miner', 'Goblin Drill')",
           0
          ],
          [
           "('Hog Rider', 'Goblin Drill')",
           -0.25
          ],
          [
           "('Battle Ram', 'Skeleton Barrel')",
           1.125
          ],
          [
           "('Ram Rider', 'Goblin Drill')",
           -0.5
          ],
          [
           "('Hog Rider', 'Skeleton Barrel')",
           -0.875
          ],
          [
           "('Ram Rider', 'Goblin Drill')",
           0.75
          ],
          [
           "('Wall Breakers', 'Hog Rider')",
           -0.375
          ],
          [
           "(None, 'Goblin Drill')",
           0.875
          ],
          [
           "('Giant', 'Goblin Drill')",
           0
          ],
          [
           "('Hog Rider', 'Goblin Drill')",
           -0.25
          ],
          [
           "('Hog Rider', 'Goblin Drill')",
           -0.625
          ],
          [
           "('Royal Giant', 'Goblin Drill')",
           0.125
          ],
          [
           "('Royal Giant', 'Goblin Drill')",
           0.875
          ],
          [
           "('Mortar', 'Goblin Drill')",
           1.75
          ],
          [
           "('Balloon', 'Goblin Drill')",
           -0.125
          ],
          [
           "('Balloon', 'Goblin Drill')",
           -0.625
          ],
          [
           "('Goblin Barrel', 'Wall Breakers')",
           -0.375
          ],
          [
           "('Hog Rider', 'Goblin Drill')",
           -0.375
          ],
          [
           "('Hog Rider', 'Goblin Drill')",
           0.625
          ],
          [
           "('Goblin Barrel', 'Goblin Drill')",
           -0.125
          ],
          [
           "('Wall Breakers', 'Goblin Drill')",
           0.625
          ],
          [
           "('Mortar', 'Goblin Drill')",
           0.625
          ],
          [
           "('Ram Rider', 'Goblin Drill')",
           1.125
          ],
          [
           "('Battle Ram', 'Goblin Drill')",
           0.25
          ],
          [
           "('Hog Rider', 'Goblin Drill')",
           -0.875
          ],
          [
           "('Giant', 'Goblin Drill')",
           0.625
          ],
          [
           "(None, 'Goblin Drill')",
           -0.25
          ],
          [
           "('Battle Ram', 'Goblin Drill')",
           0.875
          ],
          [
           "(None, 'Goblin Drill')",
           1.25
          ],
          [
           "('Hog Rider', 'Goblin Drill')",
           0.875
          ],
          [
           "(None, 'Goblin Drill')",
           2
          ],
          [
           "('Battle Ram', 'Goblin Drill')",
           1
          ],
          [
           "('Ram Rider', 'Goblin Drill')",
           -0.125
          ],
          [
           "('Goblin Barrel', 'Goblin Drill')",
           -0.5
          ],
          [
           "(None, 'Goblin Giant')",
           0.125
          ],
          [
           "('Hog Rider', 'Goblin Drill')",
           -0.75
          ],
          [
           "('Hog Rider', 'Goblin Drill')",
           -0.625
          ],
          [
           "('Goblin Barrel', 'Goblin Drill')",
           0
          ],
          [
           "('Battle Ram', 'Goblin Drill')",
           1
          ],
          [
           "('Giant', 'Goblin Drill')",
           1
          ],
          [
           "('Wall Breakers', 'Goblin Drill')",
           0.25
          ],
          [
           "('Goblin Barrel', 'Wall Breakers')",
           0.125
          ],
          [
           "('Royal Hogs', 'Goblin Drill')",
           1.375
          ],
          [
           "('Hog Rider', 'Goblin Drill')",
           -0.25
          ],
          [
           "('Hog Rider', 'Goblin Drill')",
           -0.125
          ],
          [
           "('Royal Giant', 'Mortar')",
           0
          ],
          [
           "('Battle Ram', 'Goblin Drill')",
           1
          ],
          [
           "(None, 'Goblin Drill')",
           2.75
          ],
          [
           "('Hog Rider', 'Wall Breakers')",
           0.25
          ],
          [
           "('Hog Rider', 'Wall Breakers')",
           0.5
          ],
          [
           "('Hog Rider', 'Goblin Drill')",
           -0.875
          ],
          [
           "('Giant', 'Goblin Drill')",
           0.75
          ],
          [
           "('Giant', 'Goblin Drill')",
           0.25
          ],
          [
           "('Hog Rider', 'Wall Breakers')",
           0.5
          ],
          [
           "('Goblin Barrel', 'Goblin Drill')",
           0.25
          ],
          [
           "('Ram Rider', 'Mortar')",
           0
          ],
          [
           "('Golem', 'Goblin Drill')",
           2.625
          ],
          [
           "('Electro Giant', 'Wall Breakers')",
           1.25
          ],
          [
           "('Balloon', 'Goblin Drill')",
           1
          ],
          [
           "('Goblin Giant', 'Goblin Drill')",
           1.25
          ],
          [
           "(None, 'Goblin Drill')",
           1.375
          ],
          [
           "('Ram Rider', 'Goblin Drill')",
           -0.5
          ],
          [
           "('Hog Rider', 'Goblin Drill')",
           -1
          ],
          [
           "('Skeleton Barrel', 'Wall Breakers')",
           0.75
          ],
          [
           "('Hog Rider', 'Goblin Drill')",
           0.125
          ],
          [
           "('Hog Rider', 'Wall Breakers')",
           -0.125
          ],
          [
           "('Ram Rider', 'Goblin Drill')",
           0
          ],
          [
           "('Hog Rider', 'Goblin Drill')",
           1.125
          ],
          [
           "('Goblin Barrel', 'Goblin Drill')",
           -0.375
          ],
          [
           "('Hog Rider', 'Mortar')",
           -0.625
          ],
          [
           "('Ram Rider', 'Goblin Drill')",
           0.875
          ],
          [
           "('Goblin Giant', 'Goblin Drill')",
           1
          ],
          [
           "('Hog Rider', 'Goblin Drill')",
           0.75
          ],
          [
           "('Royal Hogs', 'Goblin Drill')",
           -0.5
          ],
          [
           "('Hog Rider', 'Goblin Drill')",
           -0.875
          ],
          [
           "('Hog Rider', 'Wall Breakers')",
           0.375
          ],
          [
           "('Mortar', 'Goblin Drill')",
           1.5
          ],
          [
           "('X-Bow', 'Goblin Drill')",
           0.25
          ],
          [
           "(None, 'Goblin Drill')",
           1.125
          ],
          [
           "('Goblin Barrel', 'Wall Breakers')",
           1
          ],
          [
           "('Hog Rider', 'Miner')",
           0.5
          ],
          [
           "('Balloon', 'Goblin Drill')",
           0
          ],
          [
           "('Balloon', 'Goblin Drill')",
           0.75
          ],
          [
           "(None, 'Goblin Drill')",
           0.625
          ],
          [
           "('Balloon', 'Goblin Drill')",
           0.625
          ],
          [
           "('Ram Rider', 'Goblin Drill')",
           1
          ],
          [
           "('Mortar', 'Goblin Drill')",
           0.375
          ],
          [
           "(None, 'Royal Giant')",
           0.25
          ],
          [
           "('Goblin Giant', 'Goblin Drill')",
           -0.25
          ],
          [
           "('Hog Rider', 'Goblin Drill')",
           0.875
          ],
          [
           "('Hog Rider', 'Goblin Drill')",
           -0.375
          ],
          [
           "(None, 'Goblin Drill')",
           0.875
          ],
          [
           "('Royal Giant', 'Goblin Drill')",
           -0.25
          ],
          [
           "('Hog Rider', 'Wall Breakers')",
           0.125
          ],
          [
           "(None, 'Goblin Drill')",
           0.25
          ],
          [
           "('Battle Ram', 'Hog Rider')",
           0.25
          ],
          [
           "(None, 'Goblin Drill')",
           -0.375
          ],
          [
           "('Hog Rider', 'Goblin Drill')",
           -0.25
          ],
          [
           "('Golem', 'Goblin Drill')",
           1.25
          ],
          [
           "('Royal Giant', 'Goblin Drill')",
           0.5
          ],
          [
           "('Elixir Golem', 'Wall Breakers')",
           0.5
          ],
          [
           "(None, 'Goblin Drill')",
           1.25
          ],
          [
           "('Ram Rider', 'Goblin Drill')",
           0.125
          ],
          [
           "('Goblin Giant', 'Goblin Drill')",
           1.375
          ],
          [
           "('Hog Rider', 'Goblin Drill')",
           -0.375
          ],
          [
           "('Hog Rider', 'Wall Breakers')",
           -0.625
          ],
          [
           "('Goblin Barrel', 'Goblin Drill')",
           0
          ],
          [
           "('Hog Rider', 'Hog Rider')",
           -1
          ]
         ],
         "hovertemplate": "Winner1000=['Firecracker']<br>UMAP 1=%{x}<br>UMAP 2=%{y}<br>WinCon=%{customdata[0]}<br>Elixir=%{customdata[1]}<extra></extra>",
         "legendgroup": "['Firecracker']",
         "marker": {
          "color": "#EF553B",
          "opacity": 0.6,
          "size": 4,
          "symbol": "circle"
         },
         "mode": "markers",
         "name": "['Firecracker']",
         "orientation": "v",
         "showlegend": true,
         "type": "scatter",
         "x": {
          "bdata": "vxYqQWd7K0EUKyxBDzcrQRCyKUHNoytBEzMrQZDiKkGbcCpBduArQSf8LEHP7ilBng4rQRrVK0EqoStBwD0sQSNWKUFqTixBEwAsQXPcKkGOuSlB5UorQRKKKkEK4CtB8NcpQamqJ0GQpitBl6spQb4AK0Ev2y1BjicrQaKnLEHKvCpBbo0rQUZ6LEEOuytBmYQpQRFrK0FuDCxB1RwrQeIJK0E/bytBScQrQXrWK0EhtCtBxLwqQe7yKkHneStBxPEqQfcCK0FbTStBSBYtQWRDKUE61ytBrfAqQdCcK0HzLCtBF0UrQWOMK0GzYytBSk0sQQcSKkFo5ytBsmYtQQ4IKkGRtSxB0DIsQXeUKkFHDSpB9sUqQTXcKUFqkitBvx4qQcHRK0EUAStBKPcrQcFnKkHzkC1B678sQbaqKUHG7ipBRvIsQXyxLEHsfyxBWNcqQdIeLEEN0StBhLssQdb6KkG//ypBIWgrQVSOKUELKyxBy+gqQZxsKkH+vSlBNZEsQaaLLUG0xS1BHS0sQYyTLUEYQCtBoYUsQSFBK0GU1CtBDS8rQS+1KUFoOipBHK4sQagFK0Er6ypB0MUqQdEyLEGoOCtB60YrQe15LEGQUypBxk0rQSGcK0GnuylB+CYtQUpWK0GlqitBXksnQQ6OK0E6UytBbC8rQXk0J0GtYitB460sQZ6jKkGjmCxBrFssQU3UK0HZDCxBP6IqQRxXLEGMJytBkC4rQRetK0Fd4yxBsH8qQWwSK0HS0S1BsS8rQQyQK0GaLyxBCVUsQbd2K0EmQCxB6YUrQdgjLEG0DipBIxYrQStbLkFvtClBbd4pQQcHKkHx6i1BGKAsQbCBK0E56StBdh0rQXUtLUF71ixBGTwrQfLVKkFtzCxBtlkrQTTGK0GFZitBfYgqQUy8LEGGzCtBSF8rQSqVJ0GmSSxBvHUrQS6SKUGYLStBp8IsQVIWLEFeNypBD84sQWSiK0FgdStBugsrQV2ZK0FJLypBOW4sQShBLUFHJyxBzzArQe8eLEFesS1B7KcsQcpkK0F2Hi1BgZ0rQfUfLUFfhStBv5YuQbNWLUG9hytBiNIpQTcELEFxBSxBJAYpQdnPKkGo5itBEm4sQeaxKkFZMCpBH/orQR0JKkF3qCtBg10rQbfDK0EDUCtBORAuQS2qKkGwjytBxK4rQTmlKkHdoSlBq1osQa2OLEExVitBj4ssQQnrK0ELwixBxPwqQcGiLEE3VSxBIMErQXVLJ0FklydBZocoQSNdK0EEQCtByBMsQcs1K0GJeytBh7MrQfOGK0FkJytB/WAqQbihKUGFcCxBh/wtQezMK0GoDypB0UkrQaA6LEFP2ypBJ6sqQUG1K0H41StB9FArQXWbK0FI1SxBK/krQbBcKUFyIitBaIYrQXQwLEGZRCtBpZUsQcfRK0E1aypBadkpQeAVLkGtQCtBAjYrQZNKK0G8Wi1BMZUrQbXeLEF48ypBIuQsQVOQK0FSlCpBAmYrQc6dKkGbvSlBZFUqQUsmK0EYDCtBAAUrQTlyK0HShytBEbIrQXLOKUFjuyxBdSkrQQukLUFmMStBSp0rQSbiK0FRLCtBkworQbQaLUHEfytBtTEqQcT/K0FlTStBQuEqQTL9KkF48CxBfjQsQe+mK0H3SytBsGwuQfpCK0GUgixBbnErQeEXKkGrRStBOroqQZKcK0GpHStB+dUrQcjQKkFDoSxBj30rQcIUK0FXfSpBkXwvQcwmLEEcMSxB5n4rQVZtK0E=",
          "dtype": "f4"
         },
         "xaxis": "x",
         "y": {
          "bdata": "BRnov68+7b91u+2/tX3wvzGaz79vFeu/Hpbuv9iq8b+Nyeu/Suzwv53h278NScC/pHTwv5lu67/V5+u/VYfiv1G0zb/QU+q/9+Lqv++q77/gFNq/Szzrv6+O7r9WpO6/6xPSv6Dgor+nfOq/+0jHv1y48b8Wrsm/VEjxv87Q4b8/p+u/gGHvv/Oe8L8JGOi/36XJv4tZ5r/nmuq/pyjxv8Nw3b8ORe+/trThv/Kr7b/ROeq/PEXrv2vJ679Nl+2/m9Hxv03C7787v+2/fpLRv1BC4b8vku+/hn7yv/9a67+w1+m/jbTvv+zT7b9BQPG/f7vjv4cA3r9kyvC/CcTPv25B6r9VYuy/fYLwv+/L6r/VIua/WwTvv4jw5r+Qle6/9ffXvxtV9L8wC/C/0YPovwyT57+MkNO/JsrXv6iw4r+AC/C/rRTgv2NQ3r+a4Oa/3Q3wv19i6L/6cue/9xfsvysH8r+h/u+/8GPuv9Gx3b/hlvO/Q+Pvv8kn6r+AKNW/n6rnv9CH0L8hrtG/jOzrvxFp0r9v6fC/86zov12f8L/1f+y/yRPwv01Kzb81zuW/sl7pv6rK8L9Ri+y/tdrwv4FD6b/6rPC/Fwruv/6b6r/as9+/oUbvv60m77/mydO/FuLQvyeD8b9BX+y/l56gvzqL7r9zkfK/a2/sv8wEm79WZeu/7Wfov6Z/5b+5W+C/PAfrv3TV7L8yte6/6qLvv1n81b/w0/C/ID7hvx9y7b8HCO2/6JLuv1458r9ZhM6/wGPwv8/76r+I0ui/wW/Wvx6R8L/lYuK/lCrvvzxL57/+mee/v2bwvw9fy7/UYN+/wq/ovwhFzr/mEc6/h27wv9i98b9C7e2/61Dvv3he0r9DXtW/D37wv4H+4L9GLuO/16btvyvy3b8h9vK/mYznv2KW2r/kavO/+L7uvxT7qb8qOOy//C7tv6Yk3L8ucO+/Pe3Xv+Wc5r/mTN+/4Prfv7e17L9lVOy/k0nZv+J98r8vdOW/qYniv6v/17+4juW/4Nvvv4N06b/gtNG/Bojlv+dg8L+vxtq/ak3pv6ld2L9VrO6/lo/Hv6yy1r+6x+S/UBrMv0c/9b8N4fS/0NXdv3aw7r+lc/O/RTv4v4NQ77+cKuu/Qv7pv+jH6b+KPfO/t0Pvvx3i8L8HUPG/cfrPvwxO779uW+u/CA/1v1cE8L9UOea/MIrmvyHz3b88IO6/z3zqvzwj8r+HQNy/AwDuvyre3L8AWuq/RDzvv9i3mb92nJ+/Wwq8v4sY7L98YfC/EHrrv07i8b+nIPC/v9nwv4MV5L+LS+m/2BHsv0/n3L/BO+W/hAXPvzEq8r+LSOG/w/Duv5W66L8Uze+/Sm7PvzUo7b8rEe2/1rzvv72U77+K/uy/TAPpv+3Xzb/Rge+/f57tv4Xx7L+r9++/xN7ev5LA67/rxu6/n+bPv8Ifzr/sQ/C/QR7wv13p7r/Jr8a/VP3qv/w3478NIuy/Ocfyvz2R7L9/Ju2/fBbhv1fh3L+qH+e/C87iv2EN778iGuO/7mTvv4+j8L/oTO+/IjPsv8nO37/o6eG/yJXxv2Ed0b/ulfG/IA/wv1ao7b/me/G/ZADqv1W+2b+W1PC/XI7nv1RH5L+nd+y/K+Puv1GN678FHtu/mrrkv7Eh779t2PG/wQTOv/us8b/lJeu/Bhrrv89j2r/xe+6/NC/svwNr7r+umvG/yZvjvwB98L/g+Oq/7lP0v8gh8b/NwO2/DDjBv6d+7b+spe2/PH3ov6Q/8r8=",
          "dtype": "f4"
         },
         "yaxis": "y"
        },
        {
         "customdata": [
          [
           "('Royal Hogs', 'Wall Breakers')",
           0.125
          ],
          [
           "('Goblin Barrel', 'Goblin Drill')",
           -0.875
          ],
          [
           "('Hog Rider', 'Goblin Drill')",
           -1.125
          ],
          [
           "('Giant', 'Goblin Drill')",
           0.875
          ],
          [
           "('Ram Rider', None)",
           0.75
          ],
          [
           "('X-Bow', 'Goblin Drill')",
           -0.625
          ],
          [
           "('X-Bow', 'Goblin Drill')",
           0.25
          ],
          [
           "('Hog Rider', 'Goblin Drill')",
           0.5
          ],
          [
           "(None, 'Goblin Drill')",
           -0.125
          ],
          [
           "('Skeleton Barrel', 'Miner')",
           1.625
          ],
          [
           "('X-Bow', 'Goblin Drill')",
           0.25
          ],
          [
           "('Hog Rider', 'Goblin Drill')",
           -0.375
          ],
          [
           "('Skeleton Barrel', 'Goblin Drill')",
           1.125
          ],
          [
           "('Hog Rider', 'Goblin Drill')",
           -0.25
          ],
          [
           "('Royal Hogs', 'Goblin Drill')",
           1
          ],
          [
           "('Royal Hogs', 'Goblin Drill')",
           -0.5
          ],
          [
           "('Royal Giant', 'Goblin Drill')",
           0.25
          ],
          [
           "('Goblin Barrel', 'Goblin Drill')",
           1.375
          ],
          [
           "('Goblin Barrel', 'Goblin Drill')",
           -0.25
          ],
          [
           "('Goblin Barrel', 'Goblin Drill')",
           0.75
          ],
          [
           "(None, 'Goblin Drill')",
           1
          ],
          [
           "(None, 'Wall Breakers')",
           0.625
          ],
          [
           "('Goblin Barrel', 'Goblin Drill')",
           -0.75
          ],
          [
           "(None, 'Goblin Drill')",
           1.375
          ],
          [
           "('Skeleton Barrel', 'Goblin Drill')",
           1.5
          ],
          [
           "('Royal Giant', 'Goblin Drill')",
           0.75
          ],
          [
           "('X-Bow', 'Goblin Drill')",
           0
          ],
          [
           "('Royal Hogs', 'Wall Breakers')",
           -0.375
          ],
          [
           "(None, 'Goblin Drill')",
           0.75
          ],
          [
           "('Goblin Barrel', 'Wall Breakers')",
           0.125
          ],
          [
           "('Goblin Barrel', 'Goblin Drill')",
           0.625
          ],
          [
           "('Hog Rider', 'Hog Rider')",
           0.25
          ],
          [
           "(None, 'Goblin Drill')",
           0.375
          ],
          [
           "('Goblin Barrel', None)",
           0.25
          ],
          [
           "('Miner', 'Goblin Drill')",
           0.375
          ],
          [
           "('Goblin Barrel', 'Goblin Drill')",
           0.875
          ],
          [
           "('Royal Hogs', 'Hog Rider')",
           -1.25
          ],
          [
           "('Balloon', 'Miner')",
           1
          ],
          [
           "('Goblin Barrel', 'Goblin Drill')",
           1
          ],
          [
           "('Hog Rider', 'Goblin Drill')",
           -0.75
          ],
          [
           "('Wall Breakers', 'Goblin Drill')",
           -0.375
          ],
          [
           "('Elixir Golem', 'Goblin Drill')",
           1.875
          ],
          [
           "(None, 'Mortar')",
           -0.875
          ],
          [
           "('Graveyard', 'Goblin Drill')",
           1.375
          ],
          [
           "('Royal Giant', 'Goblin Drill')",
           1.125
          ],
          [
           "('Hog Rider', 'Goblin Drill')",
           -0.625
          ],
          [
           "('Hog Rider', 'Miner')",
           1.75
          ],
          [
           "('Royal Hogs', 'Goblin Drill')",
           0
          ],
          [
           "('Goblin Barrel', 'Wall Breakers')",
           0.125
          ],
          [
           "(None, 'Goblin Drill')",
           1.25
          ],
          [
           "(None, 'Goblin Drill')",
           -0.125
          ],
          [
           "('Hog Rider', 'Goblin Drill')",
           0
          ],
          [
           "('X-Bow', 'Wall Breakers')",
           0
          ],
          [
           "(None, 'Goblin Drill')",
           0.75
          ],
          [
           "('Wall Breakers', 'Goblin Drill')",
           0.625
          ],
          [
           "('Goblin Barrel', 'Goblin Drill')",
           1.75
          ],
          [
           "('X-Bow', 'Wall Breakers')",
           -0.125
          ],
          [
           "('Royal Giant', 'Goblin Drill')",
           1.125
          ],
          [
           "('Royal Hogs', 'Goblin Drill')",
           0.25
          ],
          [
           "(None, 'Goblin Drill')",
           1.25
          ],
          [
           "('Royal Hogs', 'Wall Breakers')",
           -1.25
          ],
          [
           "('Goblin Barrel', 'Goblin Drill')",
           0.875
          ],
          [
           "('Royal Giant', 'Goblin Drill')",
           1.125
          ],
          [
           "('Hog Rider', None)",
           0.875
          ],
          [
           "('Wall Breakers', 'Goblin Drill')",
           1
          ],
          [
           "('X-Bow', 'Goblin Drill')",
           0.375
          ],
          [
           "('Hog Rider', 'Goblin Drill')",
           0.625
          ],
          [
           "('X-Bow', 'Wall Breakers')",
           -0.25
          ],
          [
           "(None, 'Goblin Drill')",
           1.25
          ],
          [
           "('Skeleton Barrel', 'Hog Rider')",
           1.125
          ],
          [
           "('Goblin Barrel', 'Goblin Drill')",
           1.25
          ],
          [
           "('Balloon', 'Goblin Drill')",
           0
          ],
          [
           "('Skeleton Barrel', 'Goblin Drill')",
           0.625
          ],
          [
           "('Hog Rider', 'Hog Rider')",
           0
          ],
          [
           "('Ram Rider', 'Goblin Drill')",
           1.375
          ],
          [
           "('Skeleton Barrel', 'Wall Breakers')",
           0.5
          ],
          [
           "('Royal Hogs', 'Goblin Drill')",
           0
          ],
          [
           "('Goblin Giant', 'Goblin Drill')",
           1.5
          ],
          [
           "('Ram Rider', 'Goblin Drill')",
           1.125
          ],
          [
           "('Royal Hogs', 'Goblin Drill')",
           0.125
          ],
          [
           "('Hog Rider', 'Goblin Drill')",
           0.75
          ],
          [
           "(None, 'Royal Hogs')",
           -0.5
          ],
          [
           "('Hog Rider', 'Hog Rider')",
           -0.875
          ],
          [
           "('Goblin Barrel', 'Goblin Drill')",
           1.125
          ],
          [
           "(None, 'Royal Giant')",
           0.5
          ],
          [
           "('Electro Giant', 'Goblin Drill')",
           1.125
          ],
          [
           "('X-Bow', 'Goblin Drill')",
           0.25
          ],
          [
           "('Skeleton Barrel', 'Goblin Drill')",
           0.25
          ],
          [
           "('Royal Giant', 'Goblin Drill')",
           0.5
          ],
          [
           "('Hog Rider', 'Goblin Drill')",
           1.875
          ],
          [
           "('Miner', 'Goblin Drill')",
           -0.875
          ],
          [
           "('Goblin Giant', 'Wall Breakers')",
           1.875
          ],
          [
           "('X-Bow', 'Goblin Drill')",
           0.25
          ],
          [
           "('Goblin Barrel', 'Goblin Drill')",
           0.25
          ],
          [
           "('X-Bow', 'Wall Breakers')",
           -0.375
          ],
          [
           "('Hog Rider', 'Goblin Drill')",
           1.125
          ],
          [
           "('Royal Hogs', 'Goblin Drill')",
           0.25
          ],
          [
           "('Goblin Barrel', 'Goblin Drill')",
           0.5
          ],
          [
           "(None, 'Goblin Drill')",
           1.375
          ],
          [
           "('Hog Rider', 'Goblin Drill')",
           2.375
          ],
          [
           "('Goblin Barrel', 'Goblin Drill')",
           0.25
          ],
          [
           "('Skeleton Barrel', 'Skeleton Barrel')",
           -0.5
          ],
          [
           "('Goblin Barrel', 'Goblin Drill')",
           1.125
          ],
          [
           "('Goblin Barrel', 'Goblin Drill')",
           -0.75
          ],
          [
           "('Giant', 'Goblin Drill')",
           0.875
          ],
          [
           "('Hog Rider', 'Hog Rider')",
           -0.5
          ],
          [
           "('Goblin Barrel', 'Goblin Drill')",
           0.25
          ],
          [
           "('Goblin Barrel', 'Goblin Drill')",
           0.125
          ],
          [
           "('Royal Hogs', 'Wall Breakers')",
           -0.25
          ],
          [
           "('Giant', 'Goblin Drill')",
           0.875
          ],
          [
           "('Goblin Barrel', 'Wall Breakers')",
           -0.375
          ],
          [
           "('Royal Hogs', 'Goblin Drill')",
           1
          ],
          [
           "('X-Bow', 'Goblin Drill')",
           0.5
          ],
          [
           "('Giant', 'Goblin Drill')",
           0.625
          ],
          [
           "('Hog Rider', 'Goblin Drill')",
           0.125
          ],
          [
           "('Goblin Barrel', 'Goblin Drill')",
           1
          ],
          [
           "('Hog Rider', 'Goblin Drill')",
           1.25
          ],
          [
           "(None, 'Goblin Drill')",
           0.375
          ],
          [
           "('Royal Hogs', 'Goblin Drill')",
           0.125
          ],
          [
           "('Giant', 'Goblin Drill')",
           1
          ]
         ],
         "hovertemplate": "Winner1000=['The Log']<br>UMAP 1=%{x}<br>UMAP 2=%{y}<br>WinCon=%{customdata[0]}<br>Elixir=%{customdata[1]}<extra></extra>",
         "legendgroup": "['The Log']",
         "marker": {
          "color": "#00cc96",
          "opacity": 0.6,
          "size": 4,
          "symbol": "circle"
         },
         "mode": "markers",
         "name": "['The Log']",
         "orientation": "v",
         "showlegend": true,
         "type": "scatter",
         "x": {
          "bdata": "0eYuQe4ILEFvby1BFcAtQbNeLkERGS9BigEuQQGqLkGqeC5BAVAtQWQALkEuBy5BmoYtQdmPLUHhBCxBp8UvQasiLkHAei1BhD8uQTgYLkEeRS5BJvUqQYJvLUFASC5B0twsQdiZKEHpsC1BlUIwQdzzLUHQOi1Bg5gtQS5/LUGiCi5BxawtQUA2LUHaKy1Ba4gwQXcwMkHr/i1BCMAvQbhDK0HRDC1BVDYuQX0yLUGYVS5BvVwnQa4fLkECJS5BKnsvQTgzLkFHQy5BLCstQf3QLkETBy5BD00tQRvsLUFaZy5B+kstQcmALkH9TC5BMlkvQdw3LUGPCy5BxdcuQSDRLUHnEC5B5TEuQfZmLkGNPC1BfZMtQenHLUHc1SxB6FktQXo7LkF1Ty1BlikuQUjXLkHOWy5BRM8tQeuRL0F+AS5BLxctQaBPLUE4fy5BFdQtQYdULkHCCi5BOLQoQSTgJkHVJC1BvukuQZkEL0Hyny5BdGUuQcx1LkGcOi1Bj3YvQYy0LUF5JC1BSSkuQc2sLkEEvS1BocEtQQdPLEEefS5BOEctQbtpLUH2zC5BjNUvQVTkLUHpfSpBVtUtQQn0LUFcki1BavYsQXPSLUEgoyxBZUQuQRhrL0GwVy1B",
          "dtype": "f4"
         },
         "xaxis": "x",
         "y": {
          "bdata": "dr7dv66z/78KC9u/duW/v6DSzr+S2Mu/3zXXvx2r17+YfNW/AM7Zvx+L2L/RxNm/Y/bdv4+M37+71Mq/uGTXv9QR1r+1vNe/KePXvzGB179wFNa/qhcAwDJF5L9ix9a/kOrfv17Eqr9VY9W/N87Wv5Yw07+Ez+C/T9ncv8865L8HfNm/HGDZvx152L/vb9q/bcjSv8swg795Pde/lALZvyD1AMCuNt+/vYvhv2ya27/y6tS/TKSUv/D01b/fBeG/yNQBwOVS1r/bvNW/9X/kv6aU0L/qoNe/uE7Yv3R+2b9VRdO/f0nZv8a837+rgNa/2r7av2rV2L9sctW/p6fOv4Oi1r9uT9W/4wXXv+zf079Sd9q/d4Dgv9eQAMCKMN6/AaTav5KwAcDsvN6/I0n6v1LM4r9lwc+/8mzSvyGw2b9ISNe/W57nv0zq4L/WvwHAKmkAwApD079aDta/tcqjvz8EkL/INd6/kRLSv9OOzL8yEdW/5bbVvwYA1L9ALd2/M6bZv9id27/jqdm/huLUv7G71r+IpdW/kwsAwPZP/7/si+K/3/Dpv4+54b84DgDAB2DZvzJE1b8W/P6/YsjWv1Zy2L+DJb2/z8fmv4j+1r8S4/u/j9nWvzj32b+t3rm/",
          "dtype": "f4"
         },
         "yaxis": "y"
        },
        {
         "customdata": [
          [
           "('Hog Rider', 'Goblin Drill')",
           0.125
          ],
          [
           "('Giant', 'Goblin Drill')",
           0.75
          ],
          [
           "('Hog Rider', 'Goblin Drill')",
           1
          ],
          [
           "('Goblin Barrel', 'Goblin Drill')",
           -0.125
          ],
          [
           "('Hog Rider', 'Goblin Drill')",
           0.75
          ],
          [
           "('Goblin Giant', 'Goblin Drill')",
           0.875
          ],
          [
           "('Goblin Barrel', 'Goblin Drill')",
           0.875
          ],
          [
           "('Skeleton Barrel', 'Goblin Drill')",
           0.375
          ],
          [
           "('Goblin Barrel', 'Goblin Drill')",
           1
          ],
          [
           "('Goblin Barrel', 'Goblin Drill')",
           -1
          ],
          [
           "('Elixir Golem', 'Goblin Drill')",
           0.875
          ],
          [
           "('Royal Giant', 'Goblin Drill')",
           0.25
          ],
          [
           "('Ram Rider', 'Hog Rider')",
           -0.625
          ],
          [
           "(None, 'Goblin Drill')",
           1.375
          ],
          [
           "('Goblin Barrel', 'Goblin Drill')",
           1
          ],
          [
           "(None, 'Wall Breakers')",
           1.125
          ],
          [
           "('Hog Rider', 'Royal Hogs')",
           0
          ],
          [
           "('Goblin Barrel', 'Goblin Drill')",
           0.5
          ],
          [
           "(None, 'Hog Rider')",
           -0.625
          ],
          [
           "('Hog Rider', 'Goblin Drill')",
           0.875
          ],
          [
           "('X-Bow', 'Goblin Drill')",
           1.875
          ],
          [
           "(None, 'Goblin Drill')",
           0.75
          ],
          [
           "('Battle Ram', 'Goblin Drill')",
           0.25
          ],
          [
           "('Balloon', 'Goblin Drill')",
           1.75
          ],
          [
           "('Wall Breakers', 'Goblin Drill')",
           0.25
          ],
          [
           "('Hog Rider', 'Goblin Drill')",
           1
          ],
          [
           "(None, 'Goblin Drill')",
           -0.75
          ],
          [
           "('Goblin Barrel', 'Goblin Drill')",
           1
          ],
          [
           "('Skeleton Barrel', 'Goblin Drill')",
           -0.125
          ],
          [
           "('Royal Giant', 'Wall Breakers')",
           0.875
          ],
          [
           "('Royal Giant', 'Goblin Drill')",
           -0.25
          ],
          [
           "('Hog Rider', 'Wall Breakers')",
           0.375
          ],
          [
           "('Goblin Barrel', 'Goblin Drill')",
           -0.125
          ],
          [
           "('Miner', 'Wall Breakers')",
           0.5
          ],
          [
           "(None, 'Royal Giant')",
           0
          ],
          [
           "('Skeleton Barrel', 'Goblin Drill')",
           0.25
          ],
          [
           "('Hog Rider', 'Goblin Drill')",
           1
          ],
          [
           "('Hog Rider', 'Goblin Drill')",
           0.25
          ],
          [
           "('Hog Rider', 'Goblin Drill')",
           -0.125
          ],
          [
           "('Goblin Barrel', 'Goblin Drill')",
           0
          ],
          [
           "('Goblin Barrel', 'Goblin Drill')",
           0
          ],
          [
           "('Wall Breakers', 'Goblin Drill')",
           0.625
          ],
          [
           "('Hog Rider', 'Goblin Drill')",
           0
          ],
          [
           "('Balloon', 'Goblin Drill')",
           1.25
          ],
          [
           "(None, 'Goblin Drill')",
           1.375
          ],
          [
           "('Goblin Barrel', 'Goblin Drill')",
           1.75
          ],
          [
           "('Goblin Barrel', 'Goblin Drill')",
           0.625
          ],
          [
           "('Goblin Barrel', 'Goblin Drill')",
           0.875
          ],
          [
           "('Skeleton Barrel', 'Goblin Drill')",
           -0.75
          ],
          [
           "('Skeleton Barrel', 'Goblin Drill')",
           0
          ],
          [
           "(None, 'Wall Breakers')",
           0.625
          ],
          [
           "('Graveyard', 'Goblin Drill')",
           2
          ],
          [
           "('Balloon', 'Goblin Drill')",
           1.625
          ],
          [
           "('Goblin Barrel', 'Wall Breakers')",
           0.125
          ],
          [
           "('Goblin Barrel', 'Goblin Drill')",
           0.375
          ],
          [
           "('Miner', 'Goblin Drill')",
           -0.375
          ],
          [
           "(None, 'Goblin Drill')",
           1.375
          ],
          [
           "('Golem', 'Goblin Drill')",
           1.125
          ],
          [
           "('Miner', 'Wall Breakers')",
           1
          ],
          [
           "('Ram Rider', 'Wall Breakers')",
           0.625
          ],
          [
           "(None, 'Goblin Drill')",
           1.5
          ],
          [
           "('Goblin Barrel', 'Goblin Drill')",
           1.25
          ],
          [
           "('Goblin Barrel', 'Goblin Drill')",
           0.625
          ],
          [
           "('Royal Giant', 'Goblin Drill')",
           0.375
          ],
          [
           "('Goblin Barrel', 'Goblin Drill')",
           -0.75
          ],
          [
           "('Goblin Barrel', 'Goblin Drill')",
           0.375
          ],
          [
           "('Hog Rider', 'Goblin Drill')",
           1.125
          ],
          [
           "('Royal Hogs', 'Goblin Drill')",
           1.25
          ],
          [
           "('Skeleton Barrel', 'Goblin Drill')",
           0.5
          ],
          [
           "('Elixir Golem', 'Goblin Drill')",
           0.5
          ],
          [
           "(None, 'Wall Breakers')",
           0.375
          ],
          [
           "('Ram Rider', 'Royal Hogs')",
           1.25
          ],
          [
           "(None, 'Goblin Drill')",
           0.5
          ],
          [
           "('Goblin Barrel', 'Goblin Drill')",
           -0.5
          ],
          [
           "('Balloon', 'Goblin Drill')",
           0.5
          ],
          [
           "('Goblin Barrel', 'Goblin Drill')",
           -0.125
          ],
          [
           "('Miner', 'Goblin Drill')",
           1
          ],
          [
           "(None, 'Goblin Drill')",
           -0.25
          ],
          [
           "(None, 'Goblin Drill')",
           0.375
          ],
          [
           "('Goblin Barrel', 'Goblin Drill')",
           0.5
          ],
          [
           "('Royal Giant', 'Goblin Drill')",
           0.75
          ],
          [
           "('Battle Ram', 'Goblin Drill')",
           1.5
          ],
          [
           "('Skeleton Barrel', 'Goblin Drill')",
           0.25
          ],
          [
           "(None, 'Goblin Drill')",
           0.625
          ],
          [
           "('Skeleton Barrel', 'Wall Breakers')",
           1.125
          ],
          [
           "('Skeleton Barrel', 'Wall Breakers')",
           0
          ],
          [
           "(None, 'Wall Breakers')",
           0.875
          ],
          [
           "('Royal Hogs', 'Wall Breakers')",
           0.875
          ],
          [
           "('Goblin Barrel', 'Goblin Drill')",
           1.5
          ],
          [
           "('Hog Rider', 'Goblin Drill')",
           0
          ],
          [
           "('Goblin Barrel', 'Goblin Drill')",
           0
          ],
          [
           "('Goblin Barrel', 'Royal Giant')",
           0.125
          ],
          [
           "('Miner', 'Goblin Drill')",
           1.25
          ],
          [
           "(None, 'Goblin Drill')",
           1
          ],
          [
           "('Balloon', 'Goblin Drill')",
           0.875
          ],
          [
           "('Miner', 'Goblin Drill')",
           -0.25
          ],
          [
           "('Giant', 'Wall Breakers')",
           1.375
          ],
          [
           "('Royal Hogs', 'Goblin Drill')",
           1.375
          ],
          [
           "('Goblin Barrel', 'Goblin Drill')",
           0.625
          ],
          [
           "('Goblin Barrel', 'Goblin Drill')",
           0.75
          ],
          [
           "(None, 'Wall Breakers')",
           1.5
          ],
          [
           "('Goblin Barrel', 'Goblin Drill')",
           -0.5
          ],
          [
           "(None, 'Goblin Drill')",
           1.375
          ],
          [
           "('Royal Hogs', 'Goblin Drill')",
           1.375
          ],
          [
           "('Battle Ram', 'Goblin Drill')",
           1.25
          ],
          [
           "('Hog Rider', 'Goblin Drill')",
           0.25
          ],
          [
           "('Goblin Barrel', 'Goblin Drill')",
           0.625
          ],
          [
           "(None, 'Goblin Drill')",
           1.5
          ],
          [
           "(None, 'Royal Hogs')",
           -0.25
          ],
          [
           "('Skeleton Barrel', 'Wall Breakers')",
           0.75
          ],
          [
           "('Miner', 'Goblin Drill')",
           -1.125
          ],
          [
           "('Goblin Barrel', 'Goblin Drill')",
           -0.5
          ],
          [
           "('Goblin Barrel', 'Goblin Drill')",
           0.875
          ],
          [
           "('Goblin Barrel', 'Goblin Drill')",
           -0.75
          ],
          [
           "('Goblin Barrel', 'Goblin Drill')",
           1.75
          ],
          [
           "('Ram Rider', 'Goblin Drill')",
           0.375
          ],
          [
           "(None, 'Wall Breakers')",
           0.625
          ],
          [
           "(None, 'Goblin Drill')",
           1.5
          ],
          [
           "(None, 'Hog Rider')",
           0.5
          ],
          [
           "('Wall Breakers', 'Hog Rider')",
           -0.625
          ],
          [
           "('Mortar', 'Hog Rider')",
           -0.25
          ],
          [
           "('Goblin Barrel', 'Goblin Drill')",
           0.5
          ],
          [
           "(None, 'Wall Breakers')",
           1
          ],
          [
           "(None, 'Goblin Drill')",
           1.75
          ],
          [
           "('Ram Rider', 'Goblin Drill')",
           0.25
          ],
          [
           "('Ram Rider', 'Goblin Drill')",
           1.5
          ],
          [
           "('Royal Giant', 'Goblin Drill')",
           1
          ],
          [
           "('Goblin Barrel', 'Goblin Drill')",
           0
          ],
          [
           "('Hog Rider', 'Goblin Drill')",
           0.375
          ],
          [
           "('Hog Rider', 'Goblin Drill')",
           0
          ],
          [
           "('Royal Hogs', 'Goblin Drill')",
           1.625
          ],
          [
           "('Skeleton Barrel', 'Goblin Drill')",
           0.875
          ],
          [
           "('Goblin Barrel', 'Goblin Drill')",
           0.75
          ],
          [
           "('Goblin Barrel', 'Goblin Drill')",
           -1
          ],
          [
           "(None, 'Goblin Drill')",
           0.375
          ],
          [
           "('Electro Giant', 'Goblin Drill')",
           0.875
          ],
          [
           "('Hog Rider', 'Wall Breakers')",
           1.75
          ],
          [
           "('Goblin Barrel', 'Goblin Drill')",
           0
          ],
          [
           "('Skeleton Barrel', 'Goblin Drill')",
           -0.125
          ],
          [
           "('Goblin Barrel', 'Wall Breakers')",
           0.375
          ],
          [
           "('Mortar', 'Goblin Drill')",
           0.75
          ],
          [
           "('Goblin Barrel', 'Goblin Drill')",
           0.625
          ],
          [
           "('Graveyard', 'Goblin Drill')",
           0.75
          ],
          [
           "('Wall Breakers', 'Goblin Drill')",
           1.125
          ],
          [
           "('Hog Rider', 'Goblin Drill')",
           0.625
          ],
          [
           "(None, 'Goblin Drill')",
           0.75
          ],
          [
           "('Balloon', 'Goblin Drill')",
           1
          ],
          [
           "('Mortar', 'X-Bow')",
           -0.375
          ],
          [
           "('Ram Rider', 'Wall Breakers')",
           0.875
          ],
          [
           "('Hog Rider', 'Goblin Drill')",
           1.125
          ],
          [
           "('Hog Rider', 'Goblin Drill')",
           -0.75
          ],
          [
           "('Balloon', 'Goblin Drill')",
           1.375
          ],
          [
           "('Goblin Barrel', 'Goblin Drill')",
           0.25
          ],
          [
           "('Hog Rider', 'Goblin Drill')",
           0.25
          ],
          [
           "('Goblin Barrel', 'Goblin Drill')",
           -0.625
          ],
          [
           "('Royal Giant', 'Goblin Drill')",
           1.375
          ],
          [
           "('Goblin Barrel', 'Goblin Drill')",
           -0.5
          ],
          [
           "('Ram Rider', 'Goblin Drill')",
           1.125
          ],
          [
           "('Royal Hogs', 'Royal Hogs')",
           -0.5
          ],
          [
           "('Goblin Barrel', 'Goblin Drill')",
           0.125
          ],
          [
           "('Hog Rider', 'Hog Rider')",
           0.375
          ],
          [
           "('Goblin Barrel', 'Wall Breakers')",
           1.25
          ],
          [
           "('Graveyard', 'Goblin Drill')",
           1.875
          ],
          [
           "('Goblin Barrel', 'Goblin Drill')",
           0.125
          ],
          [
           "(None, 'Goblin Drill')",
           1.625
          ],
          [
           "(None, 'Goblin Drill')",
           0
          ],
          [
           "('Royal Hogs', 'Wall Breakers')",
           2.25
          ],
          [
           "('Hog Rider', 'Goblin Drill')",
           0
          ],
          [
           "('Elixir Golem', 'Goblin Drill')",
           1.25
          ],
          [
           "('Skeleton Barrel', 'Goblin Drill')",
           0.75
          ],
          [
           "('Hog Rider', 'Goblin Drill')",
           -0.875
          ],
          [
           "('Hog Rider', 'Royal Giant')",
           0.625
          ],
          [
           "(None, 'Goblin Drill')",
           0.875
          ],
          [
           "('Goblin Barrel', 'Ram Rider')",
           0
          ],
          [
           "('Goblin Barrel', 'Wall Breakers')",
           0.25
          ],
          [
           "('Goblin Barrel', 'Wall Breakers')",
           0.375
          ],
          [
           "(None, 'Goblin Drill')",
           -0.25
          ],
          [
           "('Wall Breakers', 'Wall Breakers')",
           -0.375
          ],
          [
           "('Hog Rider', 'Goblin Drill')",
           0.25
          ],
          [
           "('Hog Rider', 'Goblin Drill')",
           1
          ],
          [
           "('Wall Breakers', 'Goblin Drill')",
           0
          ],
          [
           "('Graveyard', 'Goblin Drill')",
           0.5
          ],
          [
           "('Goblin Barrel', 'Goblin Drill')",
           0.5
          ],
          [
           "(None, 'Goblin Drill')",
           1.375
          ],
          [
           "('Goblin Barrel', 'Goblin Drill')",
           0.375
          ],
          [
           "('Wall Breakers', 'Goblin Drill')",
           -0.125
          ],
          [
           "('Skeleton Barrel', 'Goblin Drill')",
           0.375
          ],
          [
           "('Hog Rider', 'Goblin Drill')",
           1.125
          ],
          [
           "('Hog Rider', 'Skeleton Barrel')",
           0.625
          ],
          [
           "('Hog Rider', 'Goblin Drill')",
           0.875
          ],
          [
           "('Skeleton Barrel', 'Wall Breakers')",
           0.625
          ],
          [
           "('Goblin Barrel', 'Goblin Drill')",
           0.625
          ],
          [
           "(None, 'Goblin Drill')",
           0.875
          ],
          [
           "(None, 'Skeleton Barrel')",
           -0.5
          ],
          [
           "(None, 'Goblin Drill')",
           0.5
          ],
          [
           "('Goblin Barrel', 'Goblin Drill')",
           0.25
          ],
          [
           "('Hog Rider', 'Goblin Drill')",
           0.5
          ],
          [
           "('Ram Rider', 'Goblin Drill')",
           1.5
          ],
          [
           "(None, 'Goblin Drill')",
           1.5
          ],
          [
           "('Goblin Barrel', 'Goblin Drill')",
           0.25
          ],
          [
           "('Elixir Golem', 'Goblin Drill')",
           1.125
          ],
          [
           "(None, 'Goblin Drill')",
           1
          ],
          [
           "('Balloon', 'Goblin Drill')",
           0.625
          ],
          [
           "('Goblin Barrel', 'Goblin Drill')",
           1.125
          ],
          [
           "('Goblin Barrel', 'Wall Breakers')",
           -0.125
          ],
          [
           "('Hog Rider', 'Goblin Drill')",
           0.5
          ],
          [
           "('Hog Rider', 'Goblin Drill')",
           -0.375
          ],
          [
           "('Skeleton Barrel', 'Goblin Drill')",
           1.125
          ],
          [
           "('Royal Giant', 'Hog Rider')",
           0
          ],
          [
           "('Hog Rider', 'Goblin Drill')",
           0.625
          ],
          [
           "('Hog Rider', 'Goblin Drill')",
           0.875
          ],
          [
           "('Skeleton Barrel', 'Mortar')",
           0.25
          ],
          [
           "('Miner', 'Goblin Drill')",
           1
          ],
          [
           "('Goblin Barrel', 'Goblin Drill')",
           0.25
          ],
          [
           "('Skeleton Barrel', 'Wall Breakers')",
           0.25
          ],
          [
           "('Goblin Barrel', 'Goblin Drill')",
           -1.25
          ],
          [
           "('Hog Rider', 'Goblin Drill')",
           0.875
          ],
          [
           "('Hog Rider', 'Ram Rider')",
           -1
          ],
          [
           "('Skeleton Barrel', 'Goblin Drill')",
           0.75
          ],
          [
           "('Wall Breakers', 'Goblin Drill')",
           -0.5
          ],
          [
           "('Balloon', 'Goblin Drill')",
           1.25
          ],
          [
           "('Hog Rider', 'Goblin Drill')",
           1
          ],
          [
           "(None, 'Goblin Drill')",
           2.375
          ],
          [
           "(None, 'Goblin Drill')",
           0.875
          ],
          [
           "('Skeleton Barrel', 'Goblin Drill')",
           -1.375
          ],
          [
           "('Goblin Barrel', 'Goblin Drill')",
           -0.25
          ],
          [
           "('Hog Rider', 'Goblin Drill')",
           0.375
          ],
          [
           "('Wall Breakers', 'Goblin Drill')",
           0.125
          ],
          [
           "('Hog Rider', 'Goblin Drill')",
           0.625
          ],
          [
           "('Goblin Barrel', 'Goblin Drill')",
           0.25
          ],
          [
           "(None, 'Hog Rider')",
           0
          ],
          [
           "('Hog Rider', 'Goblin Drill')",
           -0.375
          ],
          [
           "('Hog Rider', 'Skeleton Barrel')",
           0.375
          ],
          [
           "('Royal Giant', 'Wall Breakers')",
           0.375
          ],
          [
           "('Ram Rider', 'Skeleton Barrel')",
           1.5
          ],
          [
           "(None, 'Goblin Drill')",
           0.25
          ],
          [
           "('Goblin Barrel', 'Goblin Drill')",
           0.5
          ],
          [
           "('Royal Giant', 'Goblin Drill')",
           0.875
          ],
          [
           "('Goblin Barrel', 'Wall Breakers')",
           1.625
          ],
          [
           "('Elixir Golem', 'Goblin Drill')",
           1.25
          ],
          [
           "('Ram Rider', 'Goblin Drill')",
           0.75
          ],
          [
           "('Goblin Barrel', 'Goblin Drill')",
           -0.75
          ],
          [
           "(None, 'Royal Giant')",
           -0.25
          ],
          [
           "('Goblin Barrel', 'Royal Giant')",
           -0.375
          ],
          [
           "('Goblin Barrel', 'Goblin Drill')",
           0
          ],
          [
           "('Skeleton Barrel', 'Wall Breakers')",
           0.375
          ],
          [
           "('Mortar', 'Goblin Drill')",
           0.875
          ],
          [
           "('Hog Rider', 'Skeleton Barrel')",
           0.875
          ],
          [
           "('Skeleton Barrel', 'Goblin Drill')",
           0.625
          ],
          [
           "(None, 'Goblin Drill')",
           1
          ],
          [
           "(None, 'Wall Breakers')",
           1.625
          ],
          [
           "('Battle Ram', 'Goblin Drill')",
           1.25
          ],
          [
           "('Giant', 'Skeleton Barrel')",
           0.625
          ],
          [
           "('Graveyard', 'Goblin Drill')",
           0.625
          ],
          [
           "('Battle Ram', 'Goblin Drill')",
           0.5
          ],
          [
           "('Goblin Barrel', 'Goblin Drill')",
           -0.75
          ],
          [
           "('Goblin Barrel', 'Goblin Drill')",
           0.75
          ],
          [
           "('Skeleton Barrel', 'Skeleton Barrel')",
           1.375
          ],
          [
           "('Goblin Barrel', 'Goblin Drill')",
           1.25
          ],
          [
           "(None, 'Goblin Drill')",
           -0.25
          ],
          [
           "('Goblin Barrel', 'Wall Breakers')",
           -0.375
          ],
          [
           "(None, 'Goblin Drill')",
           0.875
          ],
          [
           "(None, 'Goblin Drill')",
           2
          ],
          [
           "('Goblin Barrel', 'Goblin Drill')",
           0.625
          ],
          [
           "(None, 'Goblin Drill')",
           -0.875
          ],
          [
           "('Hog Rider', 'Goblin Drill')",
           0
          ],
          [
           "('Hog Rider', 'Goblin Drill')",
           -0.125
          ],
          [
           "(None, 'Goblin Drill')",
           1.125
          ],
          [
           "('Royal Giant', 'Lava Hound')",
           0.25
          ],
          [
           "('Skeleton Barrel', 'Goblin Drill')",
           0.75
          ],
          [
           "('Ram Rider', 'Ram Rider')",
           1
          ],
          [
           "('Balloon', 'Ram Rider')",
           -0.125
          ],
          [
           "('Wall Breakers', 'Wall Breakers')",
           -0.875
          ],
          [
           "('Hog Rider', 'Goblin Drill')",
           0.875
          ],
          [
           "(None, 'Goblin Drill')",
           0.875
          ],
          [
           "('Miner', 'Wall Breakers')",
           -0.875
          ],
          [
           "('Goblin Barrel', 'Wall Breakers')",
           -0.125
          ],
          [
           "(None, 'Goblin Drill')",
           1.25
          ],
          [
           "('Elixir Golem', 'Wall Breakers')",
           0.625
          ],
          [
           "('Hog Rider', 'Goblin Drill')",
           1.125
          ],
          [
           "(None, 'Wall Breakers')",
           0.5
          ],
          [
           "('Wall Breakers', 'Goblin Drill')",
           1.125
          ],
          [
           "('Goblin Barrel', 'Goblin Drill')",
           1
          ],
          [
           "('Hog Rider', 'Goblin Drill')",
           1.25
          ],
          [
           "('Goblin Barrel', 'Goblin Drill')",
           1.5
          ],
          [
           "('Goblin Barrel', 'Wall Breakers')",
           -0.375
          ],
          [
           "('X-Bow', 'Goblin Drill')",
           1
          ],
          [
           "('Hog Rider', 'Goblin Drill')",
           0.75
          ],
          [
           "('Goblin Barrel', 'Goblin Drill')",
           -0.5
          ],
          [
           "('Royal Giant', 'Wall Breakers')",
           0.875
          ],
          [
           "('Hog Rider', 'Goblin Drill')",
           1.25
          ],
          [
           "(None, 'Goblin Drill')",
           0.375
          ],
          [
           "('Royal Hogs', 'Goblin Drill')",
           1
          ],
          [
           "('Hog Rider', 'Goblin Drill')",
           -0.125
          ],
          [
           "('Mortar', 'Goblin Drill')",
           0.75
          ],
          [
           "('Hog Rider', 'Ram Rider')",
           -0.75
          ]
         ],
         "hovertemplate": "Winner1000=['Valkyrie']<br>UMAP 1=%{x}<br>UMAP 2=%{y}<br>WinCon=%{customdata[0]}<br>Elixir=%{customdata[1]}<extra></extra>",
         "legendgroup": "['Valkyrie']",
         "marker": {
          "color": "#ab63fa",
          "opacity": 0.6,
          "size": 4,
          "symbol": "circle"
         },
         "mode": "markers",
         "name": "['Valkyrie']",
         "orientation": "v",
         "showlegend": true,
         "type": "scatter",
         "x": {
          "bdata": "cJEpQbqSKUGIZylB7bIpQUs1KkHroSdBTJUpQdLpKUFsnilB80IpQUQoK0Ef0ylBQSkrQXMRKkEvNipB6UIrQSdnK0HiSipBJisrQeFXKkGbWClBuwQqQSAXKEH3oClBjK0pQXHSKEHcSitBgqMpQXVeKkGpXShBXTgqQdIZKUEANCpBLhkpQc/uKkHRGSlBQMwpQWIJKkHK2ihBVMMpQb2XKUGE1ylB06IrQVX1KUFY/CtBLVsqQfZ9KUH/NCpBLSApQa4SKUGczipBZdwnQaSlKUEeSCpBYewoQaa8KkF0zShBU0kpQVaLKUEJyClBDMkqQYTFKUG3KilB7UQqQZDcKUE+FSpBkTUqQXXnKEF0XSpB+p0pQftcKkHrxSlBiRsrQfUDKkGa5ylBB8cqQcfnKUG0zCpBaUApQcgZK0FZPylBfjYpQS5LKUHxqSlB7zoqQRr1KUHZ8CpBxT4rQZ3hKUH9WitBrzcqQTF5KkH5VSpBn9wpQegmKUELCilBcz4qQVDcKUFG/SlBRD8pQa9+KUF/LipB1W4pQeykKEF25idB8m4pQbwMKkHc2SlBPtYqQeiQKUE+kCtB0MIqQfq1KUHpHSpBK4EqQc5MKkEizypB+o4pQeYaKkH3UylBIpcpQQiVKkEqJypBlD4qQVMOKUHoGSpB7+YnQU/XKEEEGClBoIEqQTIJKkFbWipByRwpQaYaKUF2sypB4DspQU/2KUHQ9ilBWUUpQbnvKkE09ihBfLIpQaWEKkF+4ilBu6oqQSfbKUF/QylBbagnQTqwKkGIySlBNd4rQVxuKEFxdCpB73cpQV5lKUEkHipBNhUqQfB3KUF+FSpBiQUqQbLiKUHpcypBEm8pQf0eKkGQRSlBtNUqQRRsKUFf3ypBE3YpQWgzK0F1JihB3lMpQfMoKkGrRStBJYIqQcaUKkEivipBVssoQcNkKkFkDipB1ZoqQcDBKUFEDytBoiorQdX8KEFvECpBuvwpQZxjKkFxbSpBvC8rQSLDKUELlClBskUqQVArK0Ei8ipBCR8qQU8uKkFCLylBn6MpQVAMKkHdCipBYyUqQaVeK0FZFipBTWMqQcomK0HgritBYQQpQYN/KkHbuilBRUYqQbIhKEEcACpBoawoQZdPKkED/SlB0PspQR08K0FV+ilBvfcoQWAPKUERmilBfTIqQa8OKkH8ZCpBJ7cpQQcBKkH9ZCpBha0qQSSkKUHNnylB9oMpQe/mKkHhOSpB3SEqQaRwKUFJiilB6nMpQWJnKkF5TylBdH8pQRlZKUG/TypBJhgrQQjgKEExxilB3VgpQZcdKkH7zSlBjRQoQQTIKUHFzClBj6spQT6AKUHOkipBEYMpQYQUKkEUwShBMO4pQbttKkFdNCpBnywoQQ7RKUGvSSlB4bcqQRHxKEHrOitBHiApQahNKUGwaypBbMQqQaOrKUHaQCpB3VAqQd7SKkHnbCpBbBMqQXjjKUGfZipBaHcqQe4AKUHbiilBn4kqQbE+KkFlNypB80EqQbIuK0FhdCpBmRAqQR+PKUElySlBYVkpQTiUKkGF3ypBz34mQdvPKkE=",
          "dtype": "f4"
         },
         "xaxis": "x",
         "y": {
          "bdata": "pHX8v/FZ5r+FLgDAHKfzv7Tz9L9fvQLANHTmv6cj+r/o0/6/5sLqv+0j87+Rh/C/+Q/yv8bb9r/ELPa/v230vyDZ9b+3bQPA3ir1v55k9b9lKfi/6Of+vzaGAMCllvO/l937vzT+5r/NLva/SKD0v969878J6tq/6IX1v2J8+b/SDQHAfijpvwCl8r+4reK/gz/2vww777/hYOm/OWQFwLVq/7+rmPu/xwH2vxvv+L9Ki/m/Tz3+v+oW/L9sWPS/hDz3v4p54r+f/PK/9jIBwBdK8r+JqgPAU3ABwIew9r8iBeO/Z473vysA+782Tfi/PGj1vx31+b873um/y+f3v9+u+79dSPe/Hu35v/Dp4L++kve/PBvwv4At9b9hSfm/Tvnzv5ag/78Puva/+J/2vym/9r971fW/YGz3v38j9b9lPe2/7jj5v99v+r/1mOW/jLvuv1tZAcC9yvK/QwH0v6UE+b8suPm/HkL5v2zK9L8tNPe/JFv3v9P/57+tPOm/4hb1v7A7979d8Pi/GhH5v0//6L8QhwPA9xf6v866/b/emADADEfrv4yB8L+dBPi/XmbzvxZC+7+E4/m/l0f3v61I5L+y5APAhlr1vwZ69b9qGPO/hEnov5BC+r92+O2/XY3av6zT/b9c5Pe/fvb0v7wi2L8U5/W/54PVv2LWA8DwPPu/kZj0v1It+b/qzfO/cG/ov8xrAsCfhvW/Qe/4v+rV9r/cGve/tV3jv3NQ9L9EuOO/k3j4v/SR9b+jvvm/H5L0v0oy+L9nNfq/I2fdv3jL9b/9tfS/Q+v1vwDO5b+85fm/8g7+v+Cg6b/mR/a/hg4FwA6r6L/Hava/XI4EwF/u+b+bUva/W5fmv4lNBMBs6e6/y+nyv41W7r87d/O/BKLmv7Jv8r+I/gDAcxzzv9vt9b9F1/e/JK/5v0bl9L+Q4ve/o6QBwBGp9r+N5vW/7LP2v81e9L9Lp/S/lPXyv3cEBMAQcPi/Zdj6v39c979R1PS/XIr1v6ik978HHOi/AsL2v5eV87+8nfS/CtEDwHNx97+RE+W/zCj4vyluA8COVPe/zWv5v8L9+L9Te/m/oUUCwOJZ8r+Mqfi/GdTrv4WF+79Cx/i/mxH5v3qU/78prPW/pnACwG7sAMCh1QLANv33v84k978nPfS/5rj5v155+7+zc/y/A277vxg3+b+5vfa/AED+v4PH+b/vWvO/wNf8v+ATB8AsrgDAwzvYv0Ah8r+qfPC/QE/6v9A4/b/tYu6/XcruvykN9b9LWPq/7WD8v9E0A8D+M/W/qk3yv2JbAcBIJPm/KrXYv8zT9b/D5/e/yIEAwF82+78ifve/72P9v8SS5b99MPa/kHIHwAxZAsBeV9+/URn3v7Ec9b/LWwHA89TfvwOY+r9S4vi/i973vwGI+r9bpvK/JIjjvxOs/b+WQfO/mY7zv7eX9r/87PW/Dnn5v9JT8r8q6/S/MfEEwGx+9r+8tvW/Efb3vwyP+r/pzfa/Wvj3v2mD97/iIgDADXADwKty+7/IVvq/m6oEwH18/b/XaPC/vifzv4n5979nYPK/3FTQv5Lt9b8=",
          "dtype": "f4"
         },
         "yaxis": "y"
        },
        {
         "customdata": [
          [
           "(None, 'Goblin Drill')",
           0.375
          ],
          [
           "('Hog Rider', 'Goblin Drill')",
           1.375
          ],
          [
           "('Miner', 'Hog Rider')",
           1.25
          ],
          [
           "('Goblin Barrel', 'Goblin Drill')",
           0.125
          ],
          [
           "('Hog Rider', 'Goblin Drill')",
           -0.625
          ],
          [
           "(None, 'Goblin Drill')",
           1.25
          ],
          [
           "('Balloon', 'Goblin Drill')",
           0.875
          ],
          [
           "('Skeleton Barrel', 'Goblin Drill')",
           -0.375
          ],
          [
           "(None, 'Goblin Drill')",
           1.125
          ],
          [
           "('Skeleton Barrel', 'Goblin Drill')",
           1.125
          ],
          [
           "('Goblin Barrel', 'Goblin Drill')",
           0
          ],
          [
           "('Hog Rider', 'Goblin Drill')",
           0.75
          ],
          [
           "('Balloon', 'Goblin Drill')",
           1.25
          ],
          [
           "('Goblin Barrel', 'Royal Giant')",
           0.75
          ],
          [
           "('Miner', 'Goblin Drill')",
           -0.25
          ],
          [
           "('Goblin Barrel', 'Goblin Drill')",
           1.375
          ],
          [
           "('Royal Giant', 'Goblin Drill')",
           0.875
          ],
          [
           "('Hog Rider', 'Wall Breakers')",
           0.125
          ],
          [
           "('Elixir Golem', 'Goblin Drill')",
           0.75
          ],
          [
           "('Hog Rider', 'Goblin Drill')",
           0
          ],
          [
           "(None, 'Goblin Drill')",
           0.125
          ],
          [
           "('Golem', 'X-Bow')",
           1.5
          ],
          [
           "('Hog Rider', 'Goblin Drill')",
           0.125
          ],
          [
           "('Hog Rider', 'Goblin Drill')",
           0.25
          ],
          [
           "('Giant', 'Mortar')",
           0.75
          ],
          [
           "('Balloon', 'Goblin Drill')",
           -0.25
          ],
          [
           "('Balloon', 'Goblin Drill')",
           0.75
          ],
          [
           "('Goblin Barrel', 'Goblin Drill')",
           -1.5
          ],
          [
           "('Miner', 'Goblin Drill')",
           -0.375
          ],
          [
           "('Electro Giant', 'Goblin Drill')",
           1
          ],
          [
           "('Goblin Barrel', 'Goblin Drill')",
           0.875
          ],
          [
           "('Hog Rider', 'Goblin Drill')",
           0.25
          ],
          [
           "('Skeleton Barrel', 'Goblin Drill')",
           -0.25
          ],
          [
           "('Ram Rider', 'Goblin Drill')",
           1.75
          ],
          [
           "('Hog Rider', 'Goblin Drill')",
           1
          ],
          [
           "('Balloon', 'Goblin Drill')",
           0.875
          ],
          [
           "('Hog Rider', 'Goblin Drill')",
           0.625
          ],
          [
           "('Royal Giant', 'Royal Hogs')",
           2
          ],
          [
           "(None, 'Lava Hound')",
           0.5
          ],
          [
           "('Skeleton Barrel', 'Goblin Drill')",
           1.375
          ],
          [
           "('Balloon', None)",
           0.625
          ],
          [
           "(None, 'Goblin Drill')",
           1.625
          ],
          [
           "(None, 'Goblin Drill')",
           1.25
          ],
          [
           "('Balloon', 'Goblin Drill')",
           1.375
          ],
          [
           "(None, 'Goblin Drill')",
           0.125
          ],
          [
           "('Wall Breakers', 'Goblin Drill')",
           0.625
          ],
          [
           "(None, 'Goblin Drill')",
           0.625
          ],
          [
           "('Electro Giant', 'Wall Breakers')",
           0.25
          ],
          [
           "('Ram Rider', 'Goblin Drill')",
           -0.125
          ],
          [
           "(None, 'Mortar')",
           1.25
          ],
          [
           "(None, 'Goblin Drill')",
           0.75
          ],
          [
           "('Wall Breakers', None)",
           -0.5
          ],
          [
           "('Balloon', 'Goblin Drill')",
           0
          ],
          [
           "('Goblin Barrel', 'Goblin Drill')",
           -0.25
          ],
          [
           "('Ram Rider', 'Goblin Drill')",
           0.875
          ],
          [
           "(None, 'Goblin Drill')",
           1.375
          ],
          [
           "('Balloon', 'Goblin Drill')",
           -0.75
          ],
          [
           "('Goblin Barrel', 'Goblin Drill')",
           0.125
          ],
          [
           "('Goblin Barrel', 'Hog Rider')",
           0.875
          ],
          [
           "('Goblin Barrel', 'Goblin Drill')",
           0.875
          ],
          [
           "('Mortar', 'Goblin Drill')",
           0.625
          ],
          [
           "('Goblin Barrel', 'X-Bow')",
           0.25
          ],
          [
           "('Battle Ram', 'Goblin Drill')",
           1.125
          ],
          [
           "('Balloon', 'Goblin Drill')",
           0.125
          ],
          [
           "('Elixir Golem', 'Goblin Drill')",
           0.625
          ],
          [
           "('Electro Giant', 'Goblin Drill')",
           0.875
          ],
          [
           "('Wall Breakers', 'Goblin Drill')",
           -0.75
          ],
          [
           "('Hog Rider', 'Goblin Drill')",
           0.75
          ],
          [
           "('Battle Ram', 'Goblin Drill')",
           1.5
          ],
          [
           "('Battle Ram', 'Wall Breakers')",
           1.5
          ],
          [
           "('Hog Rider', 'Goblin Drill')",
           1.25
          ],
          [
           "('Wall Breakers', 'Goblin Drill')",
           0
          ],
          [
           "('Hog Rider', 'Goblin Drill')",
           0.625
          ],
          [
           "('Balloon', 'Goblin Drill')",
           0.875
          ],
          [
           "(None, 'Goblin Drill')",
           0.125
          ],
          [
           "('Wall Breakers', 'Wall Breakers')",
           -0.5
          ],
          [
           "('Wall Breakers', 'Goblin Drill')",
           0.25
          ],
          [
           "('Elixir Golem', 'Goblin Drill')",
           1
          ],
          [
           "(None, 'Hog Rider')",
           0
          ],
          [
           "('Hog Rider', 'Goblin Drill')",
           1.875
          ],
          [
           "('Hog Rider', 'Goblin Drill')",
           0.5
          ],
          [
           "('Royal Giant', 'Goblin Drill')",
           1.125
          ],
          [
           "(None, 'Goblin Drill')",
           1
          ],
          [
           "('Ram Rider', 'Goblin Drill')",
           1.125
          ],
          [
           "(None, 'Wall Breakers')",
           0.5
          ],
          [
           "('Mortar', 'Wall Breakers')",
           0.125
          ],
          [
           "('Goblin Barrel', 'Goblin Drill')",
           0.625
          ],
          [
           "('Royal Giant', 'Wall Breakers')",
           0
          ],
          [
           "('Elixir Golem', 'Goblin Drill')",
           0.875
          ],
          [
           "('Hog Rider', 'Wall Breakers')",
           0.5
          ],
          [
           "('Hog Rider', 'Goblin Drill')",
           1
          ],
          [
           "('Skeleton Barrel', 'Goblin Drill')",
           0.75
          ],
          [
           "('Hog Rider', 'Goblin Drill')",
           0.875
          ],
          [
           "('Ram Rider', 'Goblin Drill')",
           -0.25
          ],
          [
           "('Balloon', 'Goblin Drill')",
           1.75
          ],
          [
           "(None, 'Goblin Drill')",
           1.875
          ],
          [
           "('Goblin Barrel', 'Goblin Drill')",
           0.5
          ],
          [
           "('Goblin Barrel', 'Goblin Drill')",
           0.75
          ],
          [
           "('Hog Rider', 'Goblin Drill')",
           -0.25
          ],
          [
           "('Skeleton Barrel', 'Goblin Drill')",
           0.75
          ],
          [
           "(None, 'Wall Breakers')",
           1.125
          ],
          [
           "('Wall Breakers', 'Goblin Drill')",
           1
          ],
          [
           "('Skeleton Barrel', 'Goblin Drill')",
           0.125
          ],
          [
           "('Balloon', 'Goblin Drill')",
           1.5
          ],
          [
           "('Hog Rider', 'X-Bow')",
           0
          ],
          [
           "('Royal Giant', 'Goblin Drill')",
           0.625
          ],
          [
           "('Balloon', 'Wall Breakers')",
           1.625
          ],
          [
           "('Royal Giant', 'Goblin Drill')",
           2
          ],
          [
           "('Hog Rider', 'Goblin Drill')",
           0.625
          ],
          [
           "('Skeleton Barrel', 'Goblin Drill')",
           1.5
          ],
          [
           "('Battle Ram', 'Goblin Drill')",
           1.375
          ],
          [
           "('Hog Rider', 'Goblin Drill')",
           -0.125
          ],
          [
           "('Wall Breakers', 'Goblin Drill')",
           -0.875
          ],
          [
           "(None, 'Goblin Drill')",
           0.25
          ],
          [
           "('Battle Ram', 'Goblin Drill')",
           0.625
          ],
          [
           "('Giant', 'Goblin Drill')",
           -0.25
          ],
          [
           "('Royal Giant', 'Goblin Drill')",
           0.75
          ],
          [
           "('Golem', 'Goblin Drill')",
           0.75
          ],
          [
           "('Hog Rider', 'Hog Rider')",
           1.25
          ],
          [
           "('Skeleton Barrel', 'Goblin Drill')",
           0.625
          ],
          [
           "('Skeleton Barrel', 'Goblin Drill')",
           -0.125
          ],
          [
           "('Goblin Barrel', 'Goblin Drill')",
           0.5
          ],
          [
           "('Goblin Barrel', 'Goblin Drill')",
           0.75
          ],
          [
           "(None, 'Goblin Drill')",
           1.25
          ],
          [
           "('Royal Giant', 'Goblin Drill')",
           2.125
          ],
          [
           "('Hog Rider', 'Goblin Drill')",
           0.875
          ],
          [
           "(None, 'Goblin Drill')",
           0.125
          ],
          [
           "('Hog Rider', 'Goblin Drill')",
           0.875
          ],
          [
           "('Hog Rider', 'Royal Giant')",
           0.5
          ],
          [
           "('Hog Rider', 'Goblin Drill')",
           0.875
          ],
          [
           "('Goblin Giant', 'Goblin Drill')",
           1.125
          ],
          [
           "('Goblin Barrel', 'Royal Giant')",
           -1.125
          ],
          [
           "('Hog Rider', 'Goblin Drill')",
           1.625
          ],
          [
           "('Hog Rider', 'Goblin Drill')",
           0.875
          ],
          [
           "('Balloon', 'Wall Breakers')",
           1.25
          ],
          [
           "('Wall Breakers', 'Goblin Drill')",
           0.375
          ],
          [
           "('Wall Breakers', 'Goblin Drill')",
           0.75
          ],
          [
           "(None, 'Goblin Drill')",
           0.5
          ],
          [
           "('Giant', 'Goblin Drill')",
           0.75
          ],
          [
           "('Goblin Barrel', 'Goblin Drill')",
           0.25
          ],
          [
           "('Hog Rider', 'Goblin Drill')",
           0.125
          ],
          [
           "('Ram Rider', 'Goblin Drill')",
           -0.5
          ],
          [
           "('Balloon', 'Goblin Drill')",
           0.875
          ],
          [
           "('Hog Rider', 'Goblin Drill')",
           0
          ],
          [
           "('Mortar', 'Goblin Drill')",
           0.125
          ],
          [
           "(None, 'Goblin Drill')",
           1.125
          ],
          [
           "('Hog Rider', 'Goblin Drill')",
           -0.125
          ],
          [
           "(None, 'Goblin Drill')",
           1.375
          ],
          [
           "('Wall Breakers', 'Goblin Drill')",
           0.375
          ],
          [
           "('Balloon', 'Goblin Drill')",
           1.25
          ],
          [
           "('Goblin Barrel', 'Goblin Drill')",
           2
          ],
          [
           "('Skeleton Barrel', 'Goblin Drill')",
           1.125
          ],
          [
           "('Battle Ram', 'Wall Breakers')",
           0.75
          ],
          [
           "('Skeleton Barrel', 'Goblin Drill')",
           0.625
          ],
          [
           "('Goblin Barrel', 'Hog Rider')",
           -0.25
          ],
          [
           "('Mortar', 'Goblin Drill')",
           1.5
          ],
          [
           "('Hog Rider', 'Wall Breakers')",
           0.375
          ],
          [
           "('Goblin Barrel', 'Goblin Drill')",
           1
          ],
          [
           "(None, 'Goblin Drill')",
           0.625
          ],
          [
           "('Miner', 'Goblin Drill')",
           0.75
          ],
          [
           "('Royal Giant', 'Goblin Drill')",
           -0.125
          ]
         ],
         "hovertemplate": "Winner1000=['Mega Knight']<br>UMAP 1=%{x}<br>UMAP 2=%{y}<br>WinCon=%{customdata[0]}<br>Elixir=%{customdata[1]}<extra></extra>",
         "legendgroup": "['Mega Knight']",
         "marker": {
          "color": "#FFA15A",
          "opacity": 0.6,
          "size": 4,
          "symbol": "circle"
         },
         "mode": "markers",
         "name": "['Mega Knight']",
         "orientation": "v",
         "showlegend": true,
         "type": "scatter",
         "x": {
          "bdata": "jGQnQefHJ0HjASlBibIqQTmyKkGu/ShBy7ooQex3J0G98ShBwkkoQeKrKkEduiVBHJYpQTRsKEGNVipBwU4nQSrXJ0FGAipBZdMqQQKjKkFAvCpBG+8mQSJ6KkEd/ihBU3AqQVJ2KEFdvSpBo5kqQXA0KEGJlyhBHDQpQdjjJ0F7+iZBMSEpQYcFKEFFXydB+CUqQRtWJ0GFoyhBSF0oQePPKEGykypBBz8qQR3iJ0HuFSpBDpMqQQ60KkET2ShBm7YoQSplJ0HTuyhBMHAnQVGQKkHRiCpB+zgpQXQsKUGEvypBd6YqQUN5KkEiFChBOgooQegRJ0GJ/ydBI9MnQQxnKUHo2ilBTNInQU4XKEGMXyhBy3kqQdGzKEFfzClBzxAqQZUnKkHyTCdBGX8pQbqfKkHa7yhBEWoqQTZlJ0GgxipBC40qQaLzJ0HhXShBjYIpQXxHKUG84SdB+1EqQSg9KEF8pCpBOJ8qQUMdKEEi4yhBcWYqQe7UKEGNDyhBUZgqQc9eKEHYnCpBQFcnQf15KkFWbSpBNxEqQXWOJ0GN6CVBELooQVcbKUHJ4idBg4wqQQQaKEG0ECpBww0qQeNxKkG+vSZB6N0oQcnXJ0GUPClBEyUnQaHGJ0FTqChBb3EoQTgSKUFsgyhBb3YqQdQfKUGaAilBhLoqQaaIKEGzISdBS0gpQaVTKUHGBipBmYoqQYS9KkELyilBRIYmQTyAKkE9BClBI44oQeK2KkGzxSdBE0EqQf/6KEFboSpBd3gmQZhtKEHRVSlB3J4nQdMzKEFALilB6aIqQXlwKUE+GShB5AEoQS9pKUEIjilBjcIqQchyKEGaqihBWk4nQW93JkE=",
          "dtype": "f4"
         },
         "xaxis": "x",
         "y": {
          "bdata": "OeUCwKp2AcDEgPW/suTyv8YF87828fS/VEP+v3Cx+r8xTfa/azkBwDvc8L/Fwvu/4LTpv3PV47/S/vO/SbIEwIJYAcAsduu/dZ3yv7ju879vIvG/4cb9v6jq87//nuW/Uw/zv9DB/7+9E/S/qi30v3co6791EvW/su79v/6eAcAytgTAyjX9v/jnAMB+Evi/WEbyv5iDBMCf9wDABwABwA7l9L8cIfO/hfvzv/gfAcAkq+y/y4bwv1tY9b+6sva/Cf39v0Ni6r/qYem/Y3n+v9PW8b+/NfO/r4/8v6V4/L8D4vO/Qzvzv/AD8b/ENQHAhTrWv6Mg/r8Wmv6/zSsBwN4w8L+Ye+m/j4T/v765AMAhMwDApfbwvyoQ/r82sey/Hsjyvz3w7L/CvwLA8JTov4Xg879/5vy/gcDxvwYvAMCu1fG/jA3xvwYPAMBIPgDA3cbovxJB8b+SLQLABgn0v9oS8L+3AvW/A8Tyv0PZAcDz7/2/yfPxvzFP+r/LsQDAM63zvwPAAMAX2e+/w2IEwFjS8r+Eiu+/Cjrzv01zAMDmPPq/qJz/v3Ad/r+A1AHAQcDyvx9gAcDHZ+2/6Znsv3v/8b+Q8QbAqJD6v1wTAsBNnue/j4EAwHk1AcBeFP6/mmT/vy1m/79gSQPATLXzvzTf/L+l9/y/tmLyv/JFAcDPdwHAOy3ov4My9r+JNPK/3FP0v20H9b9QXuu/LLQFwMTW8b/LjfC/70MDwNDc8b9zhgHAINbwv8T6+7+27/S/NzL1v+Jp/L8ar/K/UoYCwEK9AcCGJPu/cPDzvwL65793xfO/4DcBwI7d8r/cTe+/srr0vyAIAMAMx/+/Ve0DwPD9BsA=",
          "dtype": "f4"
         },
         "yaxis": "y"
        }
       ],
       "layout": {
        "height": 800,
        "legend": {
         "title": {
          "text": "Winner1000"
         },
         "tracegroupgap": 0
        },
        "template": {
         "data": {
          "bar": [
           {
            "error_x": {
             "color": "#2a3f5f"
            },
            "error_y": {
             "color": "#2a3f5f"
            },
            "marker": {
             "line": {
              "color": "#E5ECF6",
              "width": 0.5
             },
             "pattern": {
              "fillmode": "overlay",
              "size": 10,
              "solidity": 0.2
             }
            },
            "type": "bar"
           }
          ],
          "barpolar": [
           {
            "marker": {
             "line": {
              "color": "#E5ECF6",
              "width": 0.5
             },
             "pattern": {
              "fillmode": "overlay",
              "size": 10,
              "solidity": 0.2
             }
            },
            "type": "barpolar"
           }
          ],
          "carpet": [
           {
            "aaxis": {
             "endlinecolor": "#2a3f5f",
             "gridcolor": "white",
             "linecolor": "white",
             "minorgridcolor": "white",
             "startlinecolor": "#2a3f5f"
            },
            "baxis": {
             "endlinecolor": "#2a3f5f",
             "gridcolor": "white",
             "linecolor": "white",
             "minorgridcolor": "white",
             "startlinecolor": "#2a3f5f"
            },
            "type": "carpet"
           }
          ],
          "choropleth": [
           {
            "colorbar": {
             "outlinewidth": 0,
             "ticks": ""
            },
            "type": "choropleth"
           }
          ],
          "contour": [
           {
            "colorbar": {
             "outlinewidth": 0,
             "ticks": ""
            },
            "colorscale": [
             [
              0,
              "#0d0887"
             ],
             [
              0.1111111111111111,
              "#46039f"
             ],
             [
              0.2222222222222222,
              "#7201a8"
             ],
             [
              0.3333333333333333,
              "#9c179e"
             ],
             [
              0.4444444444444444,
              "#bd3786"
             ],
             [
              0.5555555555555556,
              "#d8576b"
             ],
             [
              0.6666666666666666,
              "#ed7953"
             ],
             [
              0.7777777777777778,
              "#fb9f3a"
             ],
             [
              0.8888888888888888,
              "#fdca26"
             ],
             [
              1,
              "#f0f921"
             ]
            ],
            "type": "contour"
           }
          ],
          "contourcarpet": [
           {
            "colorbar": {
             "outlinewidth": 0,
             "ticks": ""
            },
            "type": "contourcarpet"
           }
          ],
          "heatmap": [
           {
            "colorbar": {
             "outlinewidth": 0,
             "ticks": ""
            },
            "colorscale": [
             [
              0,
              "#0d0887"
             ],
             [
              0.1111111111111111,
              "#46039f"
             ],
             [
              0.2222222222222222,
              "#7201a8"
             ],
             [
              0.3333333333333333,
              "#9c179e"
             ],
             [
              0.4444444444444444,
              "#bd3786"
             ],
             [
              0.5555555555555556,
              "#d8576b"
             ],
             [
              0.6666666666666666,
              "#ed7953"
             ],
             [
              0.7777777777777778,
              "#fb9f3a"
             ],
             [
              0.8888888888888888,
              "#fdca26"
             ],
             [
              1,
              "#f0f921"
             ]
            ],
            "type": "heatmap"
           }
          ],
          "histogram": [
           {
            "marker": {
             "pattern": {
              "fillmode": "overlay",
              "size": 10,
              "solidity": 0.2
             }
            },
            "type": "histogram"
           }
          ],
          "histogram2d": [
           {
            "colorbar": {
             "outlinewidth": 0,
             "ticks": ""
            },
            "colorscale": [
             [
              0,
              "#0d0887"
             ],
             [
              0.1111111111111111,
              "#46039f"
             ],
             [
              0.2222222222222222,
              "#7201a8"
             ],
             [
              0.3333333333333333,
              "#9c179e"
             ],
             [
              0.4444444444444444,
              "#bd3786"
             ],
             [
              0.5555555555555556,
              "#d8576b"
             ],
             [
              0.6666666666666666,
              "#ed7953"
             ],
             [
              0.7777777777777778,
              "#fb9f3a"
             ],
             [
              0.8888888888888888,
              "#fdca26"
             ],
             [
              1,
              "#f0f921"
             ]
            ],
            "type": "histogram2d"
           }
          ],
          "histogram2dcontour": [
           {
            "colorbar": {
             "outlinewidth": 0,
             "ticks": ""
            },
            "colorscale": [
             [
              0,
              "#0d0887"
             ],
             [
              0.1111111111111111,
              "#46039f"
             ],
             [
              0.2222222222222222,
              "#7201a8"
             ],
             [
              0.3333333333333333,
              "#9c179e"
             ],
             [
              0.4444444444444444,
              "#bd3786"
             ],
             [
              0.5555555555555556,
              "#d8576b"
             ],
             [
              0.6666666666666666,
              "#ed7953"
             ],
             [
              0.7777777777777778,
              "#fb9f3a"
             ],
             [
              0.8888888888888888,
              "#fdca26"
             ],
             [
              1,
              "#f0f921"
             ]
            ],
            "type": "histogram2dcontour"
           }
          ],
          "mesh3d": [
           {
            "colorbar": {
             "outlinewidth": 0,
             "ticks": ""
            },
            "type": "mesh3d"
           }
          ],
          "parcoords": [
           {
            "line": {
             "colorbar": {
              "outlinewidth": 0,
              "ticks": ""
             }
            },
            "type": "parcoords"
           }
          ],
          "pie": [
           {
            "automargin": true,
            "type": "pie"
           }
          ],
          "scatter": [
           {
            "fillpattern": {
             "fillmode": "overlay",
             "size": 10,
             "solidity": 0.2
            },
            "type": "scatter"
           }
          ],
          "scatter3d": [
           {
            "line": {
             "colorbar": {
              "outlinewidth": 0,
              "ticks": ""
             }
            },
            "marker": {
             "colorbar": {
              "outlinewidth": 0,
              "ticks": ""
             }
            },
            "type": "scatter3d"
           }
          ],
          "scattercarpet": [
           {
            "marker": {
             "colorbar": {
              "outlinewidth": 0,
              "ticks": ""
             }
            },
            "type": "scattercarpet"
           }
          ],
          "scattergeo": [
           {
            "marker": {
             "colorbar": {
              "outlinewidth": 0,
              "ticks": ""
             }
            },
            "type": "scattergeo"
           }
          ],
          "scattergl": [
           {
            "marker": {
             "colorbar": {
              "outlinewidth": 0,
              "ticks": ""
             }
            },
            "type": "scattergl"
           }
          ],
          "scattermap": [
           {
            "marker": {
             "colorbar": {
              "outlinewidth": 0,
              "ticks": ""
             }
            },
            "type": "scattermap"
           }
          ],
          "scattermapbox": [
           {
            "marker": {
             "colorbar": {
              "outlinewidth": 0,
              "ticks": ""
             }
            },
            "type": "scattermapbox"
           }
          ],
          "scatterpolar": [
           {
            "marker": {
             "colorbar": {
              "outlinewidth": 0,
              "ticks": ""
             }
            },
            "type": "scatterpolar"
           }
          ],
          "scatterpolargl": [
           {
            "marker": {
             "colorbar": {
              "outlinewidth": 0,
              "ticks": ""
             }
            },
            "type": "scatterpolargl"
           }
          ],
          "scatterternary": [
           {
            "marker": {
             "colorbar": {
              "outlinewidth": 0,
              "ticks": ""
             }
            },
            "type": "scatterternary"
           }
          ],
          "surface": [
           {
            "colorbar": {
             "outlinewidth": 0,
             "ticks": ""
            },
            "colorscale": [
             [
              0,
              "#0d0887"
             ],
             [
              0.1111111111111111,
              "#46039f"
             ],
             [
              0.2222222222222222,
              "#7201a8"
             ],
             [
              0.3333333333333333,
              "#9c179e"
             ],
             [
              0.4444444444444444,
              "#bd3786"
             ],
             [
              0.5555555555555556,
              "#d8576b"
             ],
             [
              0.6666666666666666,
              "#ed7953"
             ],
             [
              0.7777777777777778,
              "#fb9f3a"
             ],
             [
              0.8888888888888888,
              "#fdca26"
             ],
             [
              1,
              "#f0f921"
             ]
            ],
            "type": "surface"
           }
          ],
          "table": [
           {
            "cells": {
             "fill": {
              "color": "#EBF0F8"
             },
             "line": {
              "color": "white"
             }
            },
            "header": {
             "fill": {
              "color": "#C8D4E3"
             },
             "line": {
              "color": "white"
             }
            },
            "type": "table"
           }
          ]
         },
         "layout": {
          "annotationdefaults": {
           "arrowcolor": "#2a3f5f",
           "arrowhead": 0,
           "arrowwidth": 1
          },
          "autotypenumbers": "strict",
          "coloraxis": {
           "colorbar": {
            "outlinewidth": 0,
            "ticks": ""
           }
          },
          "colorscale": {
           "diverging": [
            [
             0,
             "#8e0152"
            ],
            [
             0.1,
             "#c51b7d"
            ],
            [
             0.2,
             "#de77ae"
            ],
            [
             0.3,
             "#f1b6da"
            ],
            [
             0.4,
             "#fde0ef"
            ],
            [
             0.5,
             "#f7f7f7"
            ],
            [
             0.6,
             "#e6f5d0"
            ],
            [
             0.7,
             "#b8e186"
            ],
            [
             0.8,
             "#7fbc41"
            ],
            [
             0.9,
             "#4d9221"
            ],
            [
             1,
             "#276419"
            ]
           ],
           "sequential": [
            [
             0,
             "#0d0887"
            ],
            [
             0.1111111111111111,
             "#46039f"
            ],
            [
             0.2222222222222222,
             "#7201a8"
            ],
            [
             0.3333333333333333,
             "#9c179e"
            ],
            [
             0.4444444444444444,
             "#bd3786"
            ],
            [
             0.5555555555555556,
             "#d8576b"
            ],
            [
             0.6666666666666666,
             "#ed7953"
            ],
            [
             0.7777777777777778,
             "#fb9f3a"
            ],
            [
             0.8888888888888888,
             "#fdca26"
            ],
            [
             1,
             "#f0f921"
            ]
           ],
           "sequentialminus": [
            [
             0,
             "#0d0887"
            ],
            [
             0.1111111111111111,
             "#46039f"
            ],
            [
             0.2222222222222222,
             "#7201a8"
            ],
            [
             0.3333333333333333,
             "#9c179e"
            ],
            [
             0.4444444444444444,
             "#bd3786"
            ],
            [
             0.5555555555555556,
             "#d8576b"
            ],
            [
             0.6666666666666666,
             "#ed7953"
            ],
            [
             0.7777777777777778,
             "#fb9f3a"
            ],
            [
             0.8888888888888888,
             "#fdca26"
            ],
            [
             1,
             "#f0f921"
            ]
           ]
          },
          "colorway": [
           "#636efa",
           "#EF553B",
           "#00cc96",
           "#ab63fa",
           "#FFA15A",
           "#19d3f3",
           "#FF6692",
           "#B6E880",
           "#FF97FF",
           "#FECB52"
          ],
          "font": {
           "color": "#2a3f5f"
          },
          "geo": {
           "bgcolor": "white",
           "lakecolor": "white",
           "landcolor": "#E5ECF6",
           "showlakes": true,
           "showland": true,
           "subunitcolor": "white"
          },
          "hoverlabel": {
           "align": "left"
          },
          "hovermode": "closest",
          "mapbox": {
           "style": "light"
          },
          "paper_bgcolor": "white",
          "plot_bgcolor": "#E5ECF6",
          "polar": {
           "angularaxis": {
            "gridcolor": "white",
            "linecolor": "white",
            "ticks": ""
           },
           "bgcolor": "#E5ECF6",
           "radialaxis": {
            "gridcolor": "white",
            "linecolor": "white",
            "ticks": ""
           }
          },
          "scene": {
           "xaxis": {
            "backgroundcolor": "#E5ECF6",
            "gridcolor": "white",
            "gridwidth": 2,
            "linecolor": "white",
            "showbackground": true,
            "ticks": "",
            "zerolinecolor": "white"
           },
           "yaxis": {
            "backgroundcolor": "#E5ECF6",
            "gridcolor": "white",
            "gridwidth": 2,
            "linecolor": "white",
            "showbackground": true,
            "ticks": "",
            "zerolinecolor": "white"
           },
           "zaxis": {
            "backgroundcolor": "#E5ECF6",
            "gridcolor": "white",
            "gridwidth": 2,
            "linecolor": "white",
            "showbackground": true,
            "ticks": "",
            "zerolinecolor": "white"
           }
          },
          "shapedefaults": {
           "line": {
            "color": "#2a3f5f"
           }
          },
          "ternary": {
           "aaxis": {
            "gridcolor": "white",
            "linecolor": "white",
            "ticks": ""
           },
           "baxis": {
            "gridcolor": "white",
            "linecolor": "white",
            "ticks": ""
           },
           "bgcolor": "#E5ECF6",
           "caxis": {
            "gridcolor": "white",
            "linecolor": "white",
            "ticks": ""
           }
          },
          "title": {
           "x": 0.05
          },
          "xaxis": {
           "automargin": true,
           "gridcolor": "white",
           "linecolor": "white",
           "ticks": "",
           "title": {
            "standoff": 15
           },
           "zerolinecolor": "white",
           "zerolinewidth": 2
          },
          "yaxis": {
           "automargin": true,
           "gridcolor": "white",
           "linecolor": "white",
           "ticks": "",
           "title": {
            "standoff": 15
           },
           "zerolinecolor": "white",
           "zerolinewidth": 2
          }
         }
        },
        "title": {
         "text": "UMAP Projection of Goblin Drill Decks"
        },
        "width": 1200,
        "xaxis": {
         "anchor": "y",
         "domain": [
          0,
          1
         ],
         "title": {
          "text": "UMAP 1"
         }
        },
        "yaxis": {
         "anchor": "x",
         "domain": [
          0,
          1
         ],
         "title": {
          "text": "UMAP 2"
         }
        }
       }
      }
     },
     "metadata": {},
     "output_type": "display_data"
    }
   ],
   "source": [
    "\n",
    "color_by = \"Winner1000\"\n",
    "hover = [\"WinCon\", \"Elixir\"]\n",
    "#hover = ['WinnerDeck', 'LoserDeck']\n",
    "\n",
    "fig = px.scatter(\n",
    "    card_df,\n",
    "    x='UMAP 1',\n",
    "    y='UMAP 2',\n",
    "    color=color_by,           \n",
    "    hover_data=hover,     \n",
    "    title=f'UMAP Projection of {card_type} Decks',\n",
    "    width=1200,\n",
    "    height=800\n",
    ")\n",
    "fig.update_traces(marker={'size': 4, 'opacity': 0.6})\n",
    "fig.show()"
   ]
  },
  {
   "cell_type": "code",
   "execution_count": null,
   "metadata": {},
   "outputs": [],
   "source": []
  }
 ],
 "metadata": {
  "kernelspec": {
   "display_name": "kalshi",
   "language": "python",
   "name": "python3"
  },
  "language_info": {
   "codemirror_mode": {
    "name": "ipython",
    "version": 3
   },
   "file_extension": ".py",
   "mimetype": "text/x-python",
   "name": "python",
   "nbconvert_exporter": "python",
   "pygments_lexer": "ipython3",
   "version": "3.10.15"
  }
 },
 "nbformat": 4,
 "nbformat_minor": 2
}
